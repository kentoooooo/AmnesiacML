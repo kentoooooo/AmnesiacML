{
 "cells": [
  {
   "cell_type": "markdown",
   "metadata": {
    "colab_type": "text",
    "id": "bJ33E-3YrVD-"
   },
   "source": [
    "# Imports and Setup"
   ]
  },
  {
   "cell_type": "code",
   "execution_count": 2,
   "metadata": {},
   "outputs": [
    {
     "name": "stdout",
     "output_type": "stream",
     "text": [
      "\n",
      "\u001b[1m[\u001b[0m\u001b[34;49mnotice\u001b[0m\u001b[1;39;49m]\u001b[0m\u001b[39;49m A new release of pip is available: \u001b[0m\u001b[31;49m25.0.1\u001b[0m\u001b[39;49m -> \u001b[0m\u001b[32;49m25.1.1\u001b[0m\n",
      "\u001b[1m[\u001b[0m\u001b[34;49mnotice\u001b[0m\u001b[1;39;49m]\u001b[0m\u001b[39;49m To update, run: \u001b[0m\u001b[32;49mpip install --upgrade pip\u001b[0m\n",
      "\u001b[31mERROR: Can not perform a '--user' install. User site-packages are not visible in this virtualenv.\u001b[0m\u001b[31m\n",
      "\u001b[0mNote: you may need to restart the kernel to use updated packages.\n",
      "Requirement already satisfied: jupyter_client in ./venv/lib/python3.13/site-packages (8.6.3)\n",
      "Requirement already satisfied: jupyter-core!=5.0.*,>=4.12 in ./venv/lib/python3.13/site-packages (from jupyter_client) (5.7.2)\n",
      "Requirement already satisfied: python-dateutil>=2.8.2 in ./venv/lib/python3.13/site-packages (from jupyter_client) (2.9.0.post0)\n",
      "Requirement already satisfied: pyzmq>=23.0 in ./venv/lib/python3.13/site-packages (from jupyter_client) (26.4.0)\n",
      "Requirement already satisfied: tornado>=6.2 in ./venv/lib/python3.13/site-packages (from jupyter_client) (6.4.2)\n",
      "Requirement already satisfied: traitlets>=5.3 in ./venv/lib/python3.13/site-packages (from jupyter_client) (5.14.3)\n",
      "Requirement already satisfied: platformdirs>=2.5 in ./venv/lib/python3.13/site-packages (from jupyter-core!=5.0.*,>=4.12->jupyter_client) (4.3.8)\n",
      "Requirement already satisfied: six>=1.5 in ./venv/lib/python3.13/site-packages (from python-dateutil>=2.8.2->jupyter_client) (1.17.0)\n",
      "\n",
      "\u001b[1m[\u001b[0m\u001b[34;49mnotice\u001b[0m\u001b[1;39;49m]\u001b[0m\u001b[39;49m A new release of pip is available: \u001b[0m\u001b[31;49m25.0.1\u001b[0m\u001b[39;49m -> \u001b[0m\u001b[32;49m25.1.1\u001b[0m\n",
      "\u001b[1m[\u001b[0m\u001b[34;49mnotice\u001b[0m\u001b[1;39;49m]\u001b[0m\u001b[39;49m To update, run: \u001b[0m\u001b[32;49mpip install --upgrade pip\u001b[0m\n",
      "Note: you may need to restart the kernel to use updated packages.\n"
     ]
    }
   ],
   "source": [
    "%pip install ipywidgets --user\n",
    "%pip install --upgrade jupyter_client"
   ]
  },
  {
   "cell_type": "code",
   "execution_count": 3,
   "metadata": {},
   "outputs": [
    {
     "name": "stdout",
     "output_type": "stream",
     "text": [
      "Collecting torch\n",
      "  Using cached torch-2.7.0-cp313-cp313-manylinux_2_28_x86_64.whl.metadata (29 kB)\n",
      "Collecting torchvision\n",
      "  Using cached torchvision-0.22.0-cp313-cp313-manylinux_2_28_x86_64.whl.metadata (6.1 kB)\n",
      "Collecting numpy\n",
      "  Using cached numpy-2.2.5-cp313-cp313-manylinux_2_17_x86_64.manylinux2014_x86_64.whl.metadata (62 kB)\n",
      "Collecting matplotlib\n",
      "  Using cached matplotlib-3.10.1-cp313-cp313-manylinux_2_17_x86_64.manylinux2014_x86_64.whl.metadata (11 kB)\n",
      "Collecting scipy\n",
      "  Using cached scipy-1.15.2-cp313-cp313-manylinux_2_17_x86_64.manylinux2014_x86_64.whl.metadata (61 kB)\n",
      "Collecting filelock (from torch)\n",
      "  Using cached filelock-3.18.0-py3-none-any.whl.metadata (2.9 kB)\n",
      "Collecting typing-extensions>=4.10.0 (from torch)\n",
      "  Using cached typing_extensions-4.13.2-py3-none-any.whl.metadata (3.0 kB)\n",
      "Collecting setuptools (from torch)\n",
      "  Using cached setuptools-80.3.1-py3-none-any.whl.metadata (6.5 kB)\n",
      "Collecting sympy>=1.13.3 (from torch)\n",
      "  Using cached sympy-1.14.0-py3-none-any.whl.metadata (12 kB)\n",
      "Collecting networkx (from torch)\n",
      "  Using cached networkx-3.4.2-py3-none-any.whl.metadata (6.3 kB)\n",
      "Collecting jinja2 (from torch)\n",
      "  Using cached jinja2-3.1.6-py3-none-any.whl.metadata (2.9 kB)\n",
      "Collecting fsspec (from torch)\n",
      "  Using cached fsspec-2025.3.2-py3-none-any.whl.metadata (11 kB)\n",
      "Collecting nvidia-cuda-nvrtc-cu12==12.6.77 (from torch)\n",
      "  Using cached nvidia_cuda_nvrtc_cu12-12.6.77-py3-none-manylinux2014_x86_64.whl.metadata (1.5 kB)\n",
      "Collecting nvidia-cuda-runtime-cu12==12.6.77 (from torch)\n",
      "  Using cached nvidia_cuda_runtime_cu12-12.6.77-py3-none-manylinux2014_x86_64.manylinux_2_17_x86_64.whl.metadata (1.5 kB)\n",
      "Collecting nvidia-cuda-cupti-cu12==12.6.80 (from torch)\n",
      "  Using cached nvidia_cuda_cupti_cu12-12.6.80-py3-none-manylinux2014_x86_64.manylinux_2_17_x86_64.whl.metadata (1.6 kB)\n",
      "Collecting nvidia-cudnn-cu12==9.5.1.17 (from torch)\n",
      "  Using cached nvidia_cudnn_cu12-9.5.1.17-py3-none-manylinux_2_28_x86_64.whl.metadata (1.6 kB)\n",
      "Collecting nvidia-cublas-cu12==12.6.4.1 (from torch)\n",
      "  Using cached nvidia_cublas_cu12-12.6.4.1-py3-none-manylinux2014_x86_64.manylinux_2_17_x86_64.whl.metadata (1.5 kB)\n",
      "Collecting nvidia-cufft-cu12==11.3.0.4 (from torch)\n",
      "  Using cached nvidia_cufft_cu12-11.3.0.4-py3-none-manylinux2014_x86_64.manylinux_2_17_x86_64.whl.metadata (1.5 kB)\n",
      "Collecting nvidia-curand-cu12==10.3.7.77 (from torch)\n",
      "  Using cached nvidia_curand_cu12-10.3.7.77-py3-none-manylinux2014_x86_64.manylinux_2_17_x86_64.whl.metadata (1.5 kB)\n",
      "Collecting nvidia-cusolver-cu12==11.7.1.2 (from torch)\n",
      "  Using cached nvidia_cusolver_cu12-11.7.1.2-py3-none-manylinux2014_x86_64.manylinux_2_17_x86_64.whl.metadata (1.6 kB)\n",
      "Collecting nvidia-cusparse-cu12==12.5.4.2 (from torch)\n",
      "  Using cached nvidia_cusparse_cu12-12.5.4.2-py3-none-manylinux2014_x86_64.manylinux_2_17_x86_64.whl.metadata (1.6 kB)\n",
      "Collecting nvidia-cusparselt-cu12==0.6.3 (from torch)\n",
      "  Using cached nvidia_cusparselt_cu12-0.6.3-py3-none-manylinux2014_x86_64.whl.metadata (6.8 kB)\n",
      "Collecting nvidia-nccl-cu12==2.26.2 (from torch)\n",
      "  Using cached nvidia_nccl_cu12-2.26.2-py3-none-manylinux2014_x86_64.manylinux_2_17_x86_64.whl.metadata (2.0 kB)\n",
      "Collecting nvidia-nvtx-cu12==12.6.77 (from torch)\n",
      "  Using cached nvidia_nvtx_cu12-12.6.77-py3-none-manylinux2014_x86_64.manylinux_2_17_x86_64.whl.metadata (1.6 kB)\n",
      "Collecting nvidia-nvjitlink-cu12==12.6.85 (from torch)\n",
      "  Using cached nvidia_nvjitlink_cu12-12.6.85-py3-none-manylinux2010_x86_64.manylinux_2_12_x86_64.whl.metadata (1.5 kB)\n",
      "Collecting nvidia-cufile-cu12==1.11.1.6 (from torch)\n",
      "  Using cached nvidia_cufile_cu12-1.11.1.6-py3-none-manylinux2014_x86_64.manylinux_2_17_x86_64.whl.metadata (1.5 kB)\n",
      "Collecting triton==3.3.0 (from torch)\n",
      "  Using cached triton-3.3.0-cp313-cp313-manylinux_2_27_x86_64.manylinux_2_28_x86_64.whl.metadata (1.5 kB)\n",
      "Collecting pillow!=8.3.*,>=5.3.0 (from torchvision)\n",
      "  Using cached pillow-11.2.1-cp313-cp313-manylinux_2_28_x86_64.whl.metadata (8.9 kB)\n",
      "Collecting contourpy>=1.0.1 (from matplotlib)\n",
      "  Using cached contourpy-1.3.2-cp313-cp313-manylinux_2_17_x86_64.manylinux2014_x86_64.whl.metadata (5.5 kB)\n",
      "Collecting cycler>=0.10 (from matplotlib)\n",
      "  Using cached cycler-0.12.1-py3-none-any.whl.metadata (3.8 kB)\n",
      "Collecting fonttools>=4.22.0 (from matplotlib)\n",
      "  Using cached fonttools-4.57.0-cp313-cp313-manylinux_2_5_x86_64.manylinux1_x86_64.manylinux_2_17_x86_64.manylinux2014_x86_64.whl.metadata (102 kB)\n",
      "Collecting kiwisolver>=1.3.1 (from matplotlib)\n",
      "  Using cached kiwisolver-1.4.8-cp313-cp313-manylinux_2_17_x86_64.manylinux2014_x86_64.whl.metadata (6.2 kB)\n",
      "Requirement already satisfied: packaging>=20.0 in ./venv/lib/python3.13/site-packages (from matplotlib) (25.0)\n",
      "Collecting pyparsing>=2.3.1 (from matplotlib)\n",
      "  Using cached pyparsing-3.2.3-py3-none-any.whl.metadata (5.0 kB)\n",
      "Requirement already satisfied: python-dateutil>=2.7 in ./venv/lib/python3.13/site-packages (from matplotlib) (2.9.0.post0)\n",
      "Requirement already satisfied: six>=1.5 in ./venv/lib/python3.13/site-packages (from python-dateutil>=2.7->matplotlib) (1.17.0)\n",
      "Collecting mpmath<1.4,>=1.1.0 (from sympy>=1.13.3->torch)\n",
      "  Using cached mpmath-1.3.0-py3-none-any.whl.metadata (8.6 kB)\n",
      "Collecting MarkupSafe>=2.0 (from jinja2->torch)\n",
      "  Using cached MarkupSafe-3.0.2-cp313-cp313-manylinux_2_17_x86_64.manylinux2014_x86_64.whl.metadata (4.0 kB)\n",
      "Using cached torch-2.7.0-cp313-cp313-manylinux_2_28_x86_64.whl (865.0 MB)\n",
      "Using cached nvidia_cublas_cu12-12.6.4.1-py3-none-manylinux2014_x86_64.manylinux_2_17_x86_64.whl (393.1 MB)\n",
      "Using cached nvidia_cuda_cupti_cu12-12.6.80-py3-none-manylinux2014_x86_64.manylinux_2_17_x86_64.whl (8.9 MB)\n",
      "Using cached nvidia_cuda_nvrtc_cu12-12.6.77-py3-none-manylinux2014_x86_64.whl (23.7 MB)\n",
      "Using cached nvidia_cuda_runtime_cu12-12.6.77-py3-none-manylinux2014_x86_64.manylinux_2_17_x86_64.whl (897 kB)\n",
      "Using cached nvidia_cudnn_cu12-9.5.1.17-py3-none-manylinux_2_28_x86_64.whl (571.0 MB)\n",
      "Using cached nvidia_cufft_cu12-11.3.0.4-py3-none-manylinux2014_x86_64.manylinux_2_17_x86_64.whl (200.2 MB)\n",
      "Using cached nvidia_cufile_cu12-1.11.1.6-py3-none-manylinux2014_x86_64.manylinux_2_17_x86_64.whl (1.1 MB)\n",
      "Using cached nvidia_curand_cu12-10.3.7.77-py3-none-manylinux2014_x86_64.manylinux_2_17_x86_64.whl (56.3 MB)\n",
      "Using cached nvidia_cusolver_cu12-11.7.1.2-py3-none-manylinux2014_x86_64.manylinux_2_17_x86_64.whl (158.2 MB)\n",
      "Using cached nvidia_cusparse_cu12-12.5.4.2-py3-none-manylinux2014_x86_64.manylinux_2_17_x86_64.whl (216.6 MB)\n",
      "Using cached nvidia_cusparselt_cu12-0.6.3-py3-none-manylinux2014_x86_64.whl (156.8 MB)\n",
      "Using cached nvidia_nccl_cu12-2.26.2-py3-none-manylinux2014_x86_64.manylinux_2_17_x86_64.whl (201.3 MB)\n",
      "Using cached nvidia_nvjitlink_cu12-12.6.85-py3-none-manylinux2010_x86_64.manylinux_2_12_x86_64.whl (19.7 MB)\n",
      "Using cached nvidia_nvtx_cu12-12.6.77-py3-none-manylinux2014_x86_64.manylinux_2_17_x86_64.whl (89 kB)\n",
      "Using cached triton-3.3.0-cp313-cp313-manylinux_2_27_x86_64.manylinux_2_28_x86_64.whl (156.5 MB)\n",
      "Using cached torchvision-0.22.0-cp313-cp313-manylinux_2_28_x86_64.whl (7.4 MB)\n",
      "Using cached numpy-2.2.5-cp313-cp313-manylinux_2_17_x86_64.manylinux2014_x86_64.whl (16.1 MB)\n",
      "Using cached matplotlib-3.10.1-cp313-cp313-manylinux_2_17_x86_64.manylinux2014_x86_64.whl (8.6 MB)\n",
      "Using cached scipy-1.15.2-cp313-cp313-manylinux_2_17_x86_64.manylinux2014_x86_64.whl (37.3 MB)\n",
      "Using cached contourpy-1.3.2-cp313-cp313-manylinux_2_17_x86_64.manylinux2014_x86_64.whl (322 kB)\n",
      "Using cached cycler-0.12.1-py3-none-any.whl (8.3 kB)\n",
      "Using cached fonttools-4.57.0-cp313-cp313-manylinux_2_5_x86_64.manylinux1_x86_64.manylinux_2_17_x86_64.manylinux2014_x86_64.whl (4.8 MB)\n",
      "Using cached kiwisolver-1.4.8-cp313-cp313-manylinux_2_17_x86_64.manylinux2014_x86_64.whl (1.5 MB)\n",
      "Using cached pillow-11.2.1-cp313-cp313-manylinux_2_28_x86_64.whl (4.6 MB)\n",
      "Using cached pyparsing-3.2.3-py3-none-any.whl (111 kB)\n",
      "Using cached setuptools-80.3.1-py3-none-any.whl (1.2 MB)\n",
      "Using cached sympy-1.14.0-py3-none-any.whl (6.3 MB)\n",
      "Using cached typing_extensions-4.13.2-py3-none-any.whl (45 kB)\n",
      "Using cached filelock-3.18.0-py3-none-any.whl (16 kB)\n",
      "Using cached fsspec-2025.3.2-py3-none-any.whl (194 kB)\n",
      "Using cached jinja2-3.1.6-py3-none-any.whl (134 kB)\n",
      "Using cached networkx-3.4.2-py3-none-any.whl (1.7 MB)\n",
      "Using cached MarkupSafe-3.0.2-cp313-cp313-manylinux_2_17_x86_64.manylinux2014_x86_64.whl (23 kB)\n",
      "Using cached mpmath-1.3.0-py3-none-any.whl (536 kB)\n",
      "Installing collected packages: nvidia-cusparselt-cu12, mpmath, typing-extensions, sympy, setuptools, pyparsing, pillow, nvidia-nvtx-cu12, nvidia-nvjitlink-cu12, nvidia-nccl-cu12, nvidia-curand-cu12, nvidia-cufile-cu12, nvidia-cuda-runtime-cu12, nvidia-cuda-nvrtc-cu12, nvidia-cuda-cupti-cu12, nvidia-cublas-cu12, numpy, networkx, MarkupSafe, kiwisolver, fsspec, fonttools, filelock, cycler, triton, scipy, nvidia-cusparse-cu12, nvidia-cufft-cu12, nvidia-cudnn-cu12, jinja2, contourpy, nvidia-cusolver-cu12, matplotlib, torch, torchvision\n",
      "Successfully installed MarkupSafe-3.0.2 contourpy-1.3.2 cycler-0.12.1 filelock-3.18.0 fonttools-4.57.0 fsspec-2025.3.2 jinja2-3.1.6 kiwisolver-1.4.8 matplotlib-3.10.1 mpmath-1.3.0 networkx-3.4.2 numpy-2.2.5 nvidia-cublas-cu12-12.6.4.1 nvidia-cuda-cupti-cu12-12.6.80 nvidia-cuda-nvrtc-cu12-12.6.77 nvidia-cuda-runtime-cu12-12.6.77 nvidia-cudnn-cu12-9.5.1.17 nvidia-cufft-cu12-11.3.0.4 nvidia-cufile-cu12-1.11.1.6 nvidia-curand-cu12-10.3.7.77 nvidia-cusolver-cu12-11.7.1.2 nvidia-cusparse-cu12-12.5.4.2 nvidia-cusparselt-cu12-0.6.3 nvidia-nccl-cu12-2.26.2 nvidia-nvjitlink-cu12-12.6.85 nvidia-nvtx-cu12-12.6.77 pillow-11.2.1 pyparsing-3.2.3 scipy-1.15.2 setuptools-80.3.1 sympy-1.14.0 torch-2.7.0 torchvision-0.22.0 triton-3.3.0 typing-extensions-4.13.2\n",
      "\n",
      "\u001b[1m[\u001b[0m\u001b[34;49mnotice\u001b[0m\u001b[1;39;49m]\u001b[0m\u001b[39;49m A new release of pip is available: \u001b[0m\u001b[31;49m25.0.1\u001b[0m\u001b[39;49m -> \u001b[0m\u001b[32;49m25.1.1\u001b[0m\n",
      "\u001b[1m[\u001b[0m\u001b[34;49mnotice\u001b[0m\u001b[1;39;49m]\u001b[0m\u001b[39;49m To update, run: \u001b[0m\u001b[32;49mpip install --upgrade pip\u001b[0m\n",
      "Note: you may need to restart the kernel to use updated packages.\n"
     ]
    }
   ],
   "source": [
    "%pip install torch torchvision numpy matplotlib scipy"
   ]
  },
  {
   "cell_type": "code",
   "execution_count": 2,
   "metadata": {
    "colab": {},
    "colab_type": "code",
    "executionInfo": {
     "elapsed": 4478,
     "status": "ok",
     "timestamp": 1597325221727,
     "user": {
      "displayName": "Laura Graves",
      "photoUrl": "https://lh3.googleusercontent.com/a-/AOh14GiKkfAu7BQzHB05KzNcpkWJTPiliHjKSyQr1GwxRA=s64",
      "userId": "02198458421856045349"
     },
     "user_tz": 240
    },
    "id": "KHwBjWkKqs0r"
   },
   "outputs": [],
   "source": [
    "import torch\n",
    "import torchvision\n",
    "import numpy as np\n",
    "import matplotlib.pyplot as plt\n",
    "from torchvision import datasets, transforms, models\n",
    "from torch import nn, optim\n",
    "from torch.nn import functional as F\n",
    "from torch.autograd import Variable\n",
    "from scipy import ndimage\n",
    "import copy\n",
    "import random\n",
    "import time\n",
    "import pickle\n",
    "\n",
    "torch.set_printoptions(precision=3)\n",
    "cuda = True if torch.cuda.is_available() else False"
   ]
  },
  {
   "cell_type": "code",
   "execution_count": 3,
   "metadata": {
    "colab": {},
    "colab_type": "code",
    "executionInfo": {
     "elapsed": 4475,
     "status": "ok",
     "timestamp": 1597325221731,
     "user": {
      "displayName": "Laura Graves",
      "photoUrl": "https://lh3.googleusercontent.com/a-/AOh14GiKkfAu7BQzHB05KzNcpkWJTPiliHjKSyQr1GwxRA=s64",
      "userId": "02198458421856045349"
     },
     "user_tz": 240
    },
    "id": "85EQeiNzl4fD"
   },
   "outputs": [],
   "source": [
    "def normalize(img):\n",
    "    img = img / 2 + 0.5     # unnormalize\n",
    "    npimg = img.detach().numpy()\n",
    "    trans = np.transpose(npimg, (1,2,0))\n",
    "    return np.squeeze(trans)"
   ]
  },
  {
   "cell_type": "code",
   "execution_count": 4,
   "metadata": {
    "colab": {},
    "colab_type": "code",
    "executionInfo": {
     "elapsed": 4472,
     "status": "ok",
     "timestamp": 1597325221732,
     "user": {
      "displayName": "Laura Graves",
      "photoUrl": "https://lh3.googleusercontent.com/a-/AOh14GiKkfAu7BQzHB05KzNcpkWJTPiliHjKSyQr1GwxRA=s64",
      "userId": "02198458421856045349"
     },
     "user_tz": 240
    },
    "id": "H5fXJSmz1Qs1"
   },
   "outputs": [],
   "source": [
    "def imshow(img):\n",
    "    temp = normalize(img)\n",
    "    plt.imshow(temp, vmin=0, vmax=1, cmap='Greys_r')\n",
    "    plt.show()"
   ]
  },
  {
   "cell_type": "markdown",
   "metadata": {
    "colab_type": "text",
    "id": "0Fg9SwPurYwu"
   },
   "source": [
    "# Data Entry and Processing"
   ]
  },
  {
   "cell_type": "code",
   "execution_count": 5,
   "metadata": {
    "colab": {},
    "colab_type": "code",
    "executionInfo": {
     "elapsed": 313,
     "status": "ok",
     "timestamp": 1597325498446,
     "user": {
      "displayName": "Laura Graves",
      "photoUrl": "https://lh3.googleusercontent.com/a-/AOh14GiKkfAu7BQzHB05KzNcpkWJTPiliHjKSyQr1GwxRA=s64",
      "userId": "02198458421856045349"
     },
     "user_tz": 240
    },
    "id": "OxwbMjoErc73"
   },
   "outputs": [],
   "source": [
    "# Transform image to tensor and normalize features from [0,255] to [0,1]\n",
    "transform = transforms.Compose([transforms.ToTensor(), \n",
    "                                transforms.Normalize((0.5,),(0.5,)),\n",
    "                                ])"
   ]
  },
  {
   "cell_type": "code",
   "execution_count": 6,
   "metadata": {
    "colab": {
     "base_uri": "https://localhost:8080/",
     "height": 443,
     "referenced_widgets": [
      "46066bea204a4bbe830528b5de0c8372",
      "b05a86270f424627bf697b84cb880d3b",
      "ee278e96efb140cd8720739850c7567f",
      "71cb68dc80304efda622d5b0292667fb",
      "3b9265b3099846aabd75858c3bb5f5df",
      "c94ce7e9c3bc4bc7b25c4ce3861987df",
      "fd7f85df549c48b0b243f60fd4cb5b0f",
      "c538440ed4804e68beebf63eab85c61b",
      "9967f6c34acb4814b361004d2b75a075",
      "04fa014b4b174774b2051e6e9491fe09",
      "5a222c004e144a9a89806b32517d1abe",
      "c4c370e2d0a04fa082e7747a93294ba8",
      "be4bf227a70547f8a6718540b82c65a8",
      "a271a8b73de64d328aae4b7f5be56de6",
      "3d9642bfafc541a88affbf65e89700fd",
      "b20301e5279a4c9a8ffb693c16ade0c0",
      "c4391ac0090443e4824d2d147ae94448",
      "987ffacff90040d5b07a2f462c42ab5f",
      "08dddba55de24a49bf9c84f2cedbba00",
      "090474d95f1d48d3aecc44f785c57ca2",
      "4b03eb022f1d445abdc9cc4379238478",
      "f4b73c98de9349a09b2275cf2f1ad005",
      "72ee481e0e90406baf0bf2722f026b8a",
      "79522c5c11fd455895f6def40115c1b1",
      "b73c5dbad7e447e182061d48380fd3bf",
      "35c84a4ed1ba4870b1336e006c33e767",
      "add6cb57c0f6409ca83c37cc00b50083",
      "ba32e53d6f5d44d2b7721f14a7737e9e",
      "06a73fae4ed0415b85d31ae2fd7ef4b6",
      "790abeec3d4241c1b4bc1e69086308dc",
      "5dca13cc37aa42769c223bb2198592dc",
      "156b1c5c87534d6a97220dc9177a59df"
     ]
    },
    "colab_type": "code",
    "executionInfo": {
     "elapsed": 1878,
     "status": "ok",
     "timestamp": 1597325500586,
     "user": {
      "displayName": "Laura Graves",
      "photoUrl": "https://lh3.googleusercontent.com/a-/AOh14GiKkfAu7BQzHB05KzNcpkWJTPiliHjKSyQr1GwxRA=s64",
      "userId": "02198458421856045349"
     },
     "user_tz": 240
    },
    "id": "MXC2v1cDsR6o",
    "outputId": "be58307c-5a7c-472a-f1d0-d805364443af"
   },
   "outputs": [],
   "source": [
    "# Using MNIST\n",
    "traindata = datasets.MNIST('./data', download=True, train=True, transform=transform)\n",
    "testdata = datasets.MNIST('./data', download=True, train=False, transform=transform)"
   ]
  },
  {
   "cell_type": "code",
   "execution_count": 7,
   "metadata": {
    "colab": {},
    "colab_type": "code",
    "executionInfo": {
     "elapsed": 513,
     "status": "ok",
     "timestamp": 1597325501243,
     "user": {
      "displayName": "Laura Graves",
      "photoUrl": "https://lh3.googleusercontent.com/a-/AOh14GiKkfAu7BQzHB05KzNcpkWJTPiliHjKSyQr1GwxRA=s64",
      "userId": "02198458421856045349"
     },
     "user_tz": 240
    },
    "id": "J1HdLLfPvwhw"
   },
   "outputs": [],
   "source": [
    "# Loaders that give 64 example batches\n",
    "all_data_train_loader = torch.utils.data.DataLoader(traindata, batch_size=64, shuffle=True)\n",
    "all_data_test_loader = torch.utils.data.DataLoader(testdata, batch_size=64, shuffle=True)"
   ]
  },
  {
   "cell_type": "code",
   "execution_count": 8,
   "metadata": {
    "colab": {},
    "colab_type": "code",
    "executionInfo": {
     "elapsed": 2677,
     "status": "ok",
     "timestamp": 1597325503931,
     "user": {
      "displayName": "Laura Graves",
      "photoUrl": "https://lh3.googleusercontent.com/a-/AOh14GiKkfAu7BQzHB05KzNcpkWJTPiliHjKSyQr1GwxRA=s64",
      "userId": "02198458421856045349"
     },
     "user_tz": 240
    },
    "id": "iCHyy4w_S7aV"
   },
   "outputs": [],
   "source": [
    "# Test dataloader with 3's only\n",
    "threes_index = []\n",
    "nonthrees_index = []\n",
    "for i in range(0, len(testdata)):\n",
    "  if testdata[i][1] == 3:\n",
    "    threes_index.append(i)\n",
    "  else:\n",
    "    nonthrees_index.append(i)\n",
    "three_test_loader = torch.utils.data.DataLoader(testdata, batch_size=64,\n",
    "              sampler = torch.utils.data.SubsetRandomSampler(threes_index))\n",
    "nonthree_test_loader = torch.utils.data.DataLoader(testdata, batch_size=64,\n",
    "              sampler = torch.utils.data.SubsetRandomSampler(nonthrees_index))"
   ]
  },
  {
   "cell_type": "code",
   "execution_count": 9,
   "metadata": {
    "colab": {},
    "colab_type": "code",
    "executionInfo": {
     "elapsed": 12040,
     "status": "ok",
     "timestamp": 1597325515030,
     "user": {
      "displayName": "Laura Graves",
      "photoUrl": "https://lh3.googleusercontent.com/a-/AOh14GiKkfAu7BQzHB05KzNcpkWJTPiliHjKSyQr1GwxRA=s64",
      "userId": "02198458421856045349"
     },
     "user_tz": 240
    },
    "id": "gmMmWlHaC5Q5"
   },
   "outputs": [],
   "source": [
    "# Train dataloaders with limited 3s\n",
    "nonthrees_index = []\n",
    "threes_index = []\n",
    "count = 0\n",
    "for i in range(0, len(traindata)):\n",
    "  if traindata[i][1] != 3:\n",
    "    nonthrees_index.append(i)\n",
    "    threes_index.append(i)\n",
    "  if traindata[i][1] == 3 and count < 100:\n",
    "    count += 1\n",
    "    threes_index.append(i)\n",
    "nonthree_train_loader = torch.utils.data.DataLoader(traindata, batch_size=64,\n",
    "                     sampler = torch.utils.data.SubsetRandomSampler(nonthrees_index))\n",
    "three_train_loader = torch.utils.data.DataLoader(traindata, batch_size=64,\n",
    "                     sampler = torch.utils.data.SubsetRandomSampler(threes_index))"
   ]
  },
  {
   "cell_type": "code",
   "execution_count": 10,
   "metadata": {
    "colab": {},
    "colab_type": "code",
    "executionInfo": {
     "elapsed": 12331,
     "status": "ok",
     "timestamp": 1597325515863,
     "user": {
      "displayName": "Laura Graves",
      "photoUrl": "https://lh3.googleusercontent.com/a-/AOh14GiKkfAu7BQzHB05KzNcpkWJTPiliHjKSyQr1GwxRA=s64",
      "userId": "02198458421856045349"
     },
     "user_tz": 240
    },
    "id": "igLdvWFl90vS"
   },
   "outputs": [],
   "source": [
    "# Unlearning dataset with all \"3\" labels randomly assigned\n",
    "unlearningdata = copy.deepcopy(traindata)\n",
    "unlearninglabels = list(range(10))\n",
    "unlearninglabels.remove(3)\n",
    "for i in range(len(unlearningdata)):\n",
    "  if unlearningdata.targets[i] == 3:\n",
    "    unlearningdata.targets[i] = random.choice(unlearninglabels)\n",
    "unlearning_train_loader = torch.utils.data.DataLoader(unlearningdata, batch_size=64, shuffle=True)"
   ]
  },
  {
   "cell_type": "code",
   "execution_count": 11,
   "metadata": {
    "colab": {
     "base_uri": "https://localhost:8080/",
     "height": 284
    },
    "colab_type": "code",
    "executionInfo": {
     "elapsed": 11701,
     "status": "ok",
     "timestamp": 1597325516551,
     "user": {
      "displayName": "Laura Graves",
      "photoUrl": "https://lh3.googleusercontent.com/a-/AOh14GiKkfAu7BQzHB05KzNcpkWJTPiliHjKSyQr1GwxRA=s64",
      "userId": "02198458421856045349"
     },
     "user_tz": 240
    },
    "id": "DOKJxAoAHcso",
    "outputId": "b9644c59-eef8-412c-c060-587cd027162a"
   },
   "outputs": [
    {
     "data": {
      "image/png": "[encoded data removed]",
      "text/plain": [
       "<Figure size 640x480 with 6 Axes>"
      ]
     },
     "metadata": {},
     "output_type": "display_data"
    }
   ],
   "source": [
    "examples = enumerate(unlearning_train_loader)\n",
    "batch_idx, (example_data, example_targets) = next(examples)\n",
    "\n",
    "fig = plt.figure()\n",
    "for i in range(6):\n",
    "  plt.subplot(2,3,i+1)\n",
    "  plt.tight_layout()\n",
    "  plt.imshow(example_data[i][0], cmap='gray', interpolation='none')\n",
    "  plt.title(\"Label: {}\".format(example_targets[i]))\n",
    "  plt.xticks([])\n",
    "  plt.yticks([])"
   ]
  },
  {
   "cell_type": "markdown",
   "metadata": {
    "colab_type": "text",
    "id": "5GHiRlkzwKnB"
   },
   "source": [
    "# Model"
   ]
  },
  {
   "cell_type": "code",
   "execution_count": 12,
   "metadata": {
    "colab": {},
    "colab_type": "code",
    "executionInfo": {
     "elapsed": 9668,
     "status": "ok",
     "timestamp": 1597325516552,
     "user": {
      "displayName": "Laura Graves",
      "photoUrl": "https://lh3.googleusercontent.com/a-/AOh14GiKkfAu7BQzHB05KzNcpkWJTPiliHjKSyQr1GwxRA=s64",
      "userId": "02198458421856045349"
     },
     "user_tz": 240
    },
    "id": "h-YvXNaj2Olp"
   },
   "outputs": [],
   "source": [
    "# Hyperparameters\n",
    "batch_size_train = 64\n",
    "batch_size_test = 64\n",
    "log_interval = 16\n",
    "num_classes = 10\n",
    "torch.backends.cudnn.enabled = True\n",
    "criterion = F.nll_loss"
   ]
  },
  {
   "cell_type": "code",
   "execution_count": 13,
   "metadata": {
    "colab": {},
    "colab_type": "code",
    "executionInfo": {
     "elapsed": 8409,
     "status": "ok",
     "timestamp": 1597325516553,
     "user": {
      "displayName": "Laura Graves",
      "photoUrl": "https://lh3.googleusercontent.com/a-/AOh14GiKkfAu7BQzHB05KzNcpkWJTPiliHjKSyQr1GwxRA=s64",
      "userId": "02198458421856045349"
     },
     "user_tz": 240
    },
    "id": "7r7pQAbYyFl7"
   },
   "outputs": [],
   "source": [
    "# Training method\n",
    "def train(model, epoch, loader, returnable=False):\n",
    "    model.train()                         # ❶ 学習モードに切り替え (Dropout 等が有効)\n",
    "\n",
    "    # ❷ 返り値用のリストを準備（必要なときだけ）\n",
    "    if returnable:\n",
    "        thracc  = []   # 「ラベル3だけ」の途中精度\n",
    "        nacc    = []   # 「ラベル3以外」の途中精度\n",
    "        batches = []   # Δθ を保存したバッチ番号\n",
    "\n",
    "    # ❸ ミニバッチ学習ループ\n",
    "    for batch_idx, (data, target) in enumerate(loader):\n",
    "\n",
    "        optimizer.zero_grad()             # 勾配を 0 リセット\n",
    "        output = model(data)              # 順伝播\n",
    "\n",
    "        # ---- ここから Δθ ロギングの準備 -------------------\n",
    "        steps = []                        # ★ミス：毎ループで初期化（返り値には最後の内容のみ残る）\n",
    "\n",
    "        if 3 in target:                   # バッチに「3」が含まれるか判定\n",
    "            before = {}                   # 学習前の重みをコピー\n",
    "            for name in model.state_dict():\n",
    "                if \"weight\" in name or \"bias\" in name:\n",
    "                    before[name] = model.state_dict()[name].clone()\n",
    "\n",
    "        # ---- 損失計算と重み更新 ----------------------------\n",
    "        loss = criterion(output, target)\n",
    "        loss.backward()\n",
    "        optimizer.step()\n",
    "\n",
    "        if 3 in target:\n",
    "            batches.append(batch_idx)     # 何番目のバッチだったか記録\n",
    "            after = {}                    # 更新後の重みをコピー\n",
    "            for name in model.state_dict():\n",
    "                if \"weight\" in name or \"bias\" in name:\n",
    "                    after[name] = model.state_dict()[name].clone()\n",
    "\n",
    "            # Δθ を辞書 step に格納\n",
    "            step = {}\n",
    "            for key in before:\n",
    "                step[key] = after[key] - before[key]\n",
    "\n",
    "            # Δθ をファイルに保存：steps/e<epoch>b<batch番号>.pkl\n",
    "            with open(f\"steps/e{epoch}b{batches[-1]:04}.pkl\", \"wb\") as f:\n",
    "                pickle.dump(step, f)\n",
    "\n",
    "        # ---- ログ出力 --------------------------------------\n",
    "        if batch_idx % log_interval == 0:\n",
    "            print(f\"\\rEpoch: {epoch} [{batch_idx*len(data):6d}]\\t\"\n",
    "                  f\"Loss: {loss.item():.6f}\", end=\"\")\n",
    "\n",
    "        # ---- 途中でテスト精度を測る -------------------------\n",
    "        if returnable and batch_idx % 10 == 0:\n",
    "            # 「3 だけ」の精度\n",
    "            thracc.append(test(model, three_test_loader,\n",
    "                               dname=\"Threes only\", printable=False))\n",
    "            # 「3 以外」の精度\n",
    "            nacc.append(test(model, nonthree_test_loader,\n",
    "                             dname=\"nonthree only\", printable=False))\n",
    "            model.train()                 # test() で eval に切り替わるので戻す\n",
    "\n",
    "    # ---- 必要な情報を返す ---------------------------------\n",
    "    if returnable:\n",
    "        return thracc, nacc, batches, steps   # ★steps は最後のバッチ分のみ\n"
   ]
  },
  {
   "cell_type": "code",
   "execution_count": 14,
   "metadata": {
    "colab": {},
    "colab_type": "code",
    "executionInfo": {
     "elapsed": 6641,
     "status": "ok",
     "timestamp": 1597325516554,
     "user": {
      "displayName": "Laura Graves",
      "photoUrl": "https://lh3.googleusercontent.com/a-/AOh14GiKkfAu7BQzHB05KzNcpkWJTPiliHjKSyQr1GwxRA=s64",
      "userId": "02198458421856045349"
     },
     "user_tz": 240
    },
    "id": "Y10g3tLd0zTs"
   },
   "outputs": [],
   "source": [
    "# Testing method\n",
    "def test(model, loader, dname=\"Test set\", printable=True):\n",
    "  model.eval()\n",
    "  test_loss = 0\n",
    "  total = 0\n",
    "  correct = 0\n",
    "  with torch.no_grad():\n",
    "    for data, target in loader:\n",
    "      output = model(data)\n",
    "      total += target.size()[0]\n",
    "      test_loss += criterion(output, target).item()\n",
    "      pred = output.data.max(1, keepdim=True)[1]\n",
    "      correct += pred.eq(target.data.view_as(pred)).sum()\n",
    "  test_loss /= len(loader.dataset)\n",
    "  if printable:\n",
    "    print('{}: Mean loss: {:.4f}, Accuracy: {}/{} ({:.0f}%)'.format(\n",
    "        dname, test_loss, correct, total, \n",
    "        100. * correct / total\n",
    "        ))\n",
    "  return 1. * correct / total"
   ]
  },
  {
   "cell_type": "markdown",
   "metadata": {
    "colab_type": "text",
    "id": "GCwJjVyt_Zxz"
   },
   "source": [
    "# Original Training"
   ]
  },
  {
   "cell_type": "code",
   "execution_count": 15,
   "metadata": {
    "colab": {},
    "colab_type": "code",
    "executionInfo": {
     "elapsed": 322,
     "status": "ok",
     "timestamp": 1597325557476,
     "user": {
      "displayName": "Laura Graves",
      "photoUrl": "https://lh3.googleusercontent.com/a-/AOh14GiKkfAu7BQzHB05KzNcpkWJTPiliHjKSyQr1GwxRA=s64",
      "userId": "02198458421856045349"
     },
     "user_tz": 240
    },
    "id": "w8mU7BQnBVZN"
   },
   "outputs": [],
   "source": [
    "trainingepochs = 10\n",
    "forgetfulepochs = 10\n",
    "naive_accuracy_three = []\n",
    "naive_accuracy_nonthree = []"
   ]
  },
  {
   "cell_type": "code",
   "execution_count": 16,
   "metadata": {
    "colab": {},
    "colab_type": "code",
    "executionInfo": {
     "elapsed": 515,
     "status": "ok",
     "timestamp": 1597325559160,
     "user": {
      "displayName": "Laura Graves",
      "photoUrl": "https://lh3.googleusercontent.com/a-/AOh14GiKkfAu7BQzHB05KzNcpkWJTPiliHjKSyQr1GwxRA=s64",
      "userId": "02198458421856045349"
     },
     "user_tz": 240
    },
    "id": "Qsn4ZDQKY5yy"
   },
   "outputs": [],
   "source": [
    "# load resnet 18 and change to fit problem dimensionality\n",
    "resnet = models.resnet18()\n",
    "resnet.conv1 = nn.Conv2d(1, 64, kernel_size=(7,7), stride=(2,2), padding=(3,3), bias=False)\n",
    "resnet.fc = nn.Sequential(nn.Linear(512, num_classes), nn.LogSoftmax(dim=1))\n",
    "optimizer = optim.Adam(resnet.parameters())"
   ]
  },
  {
   "cell_type": "code",
   "execution_count": 24,
   "metadata": {},
   "outputs": [],
   "source": [
    "import os\n",
    "os.makedirs('steps', exist_ok=True)\n",
    "os.makedirs('resnet', exist_ok=True)"
   ]
  },
  {
   "cell_type": "code",
   "execution_count": 25,
   "metadata": {
    "colab": {
     "base_uri": "https://localhost:8080/",
     "height": 451
    },
    "colab_type": "code",
    "executionInfo": {
     "elapsed": 3178778,
     "status": "ok",
     "timestamp": 1597328738936,
     "user": {
      "displayName": "Laura Graves",
      "photoUrl": "https://lh3.googleusercontent.com/a-/AOh14GiKkfAu7BQzHB05KzNcpkWJTPiliHjKSyQr1GwxRA=s64",
      "userId": "02198458421856045349"
     },
     "user_tz": 240
    },
    "id": "hqJ4gRHp1tZc",
    "outputId": "e9607831-5704-4a84-9416-5c7fecbdd726"
   },
   "outputs": [
    {
     "name": "stdout",
     "output_type": "stream",
     "text": [
      "Epoch: 1 [ 53248]\tLoss: 0.090946[4, 14, 16, 22, 35, 37, 39, 45, 56, 66, 68, 82, 97, 105, 131, 146, 150, 156, 177, 178, 187, 190, 194, 205, 209, 210, 218, 222, 226, 229, 230, 237, 238, 251, 258, 262, 264, 274, 291, 313, 324, 335, 341, 350, 352, 375, 381, 383, 384, 389, 392, 402, 414, 419, 433, 443, 470, 494, 502, 511, 524, 571, 581, 582, 587, 588, 591, 600, 605, 623, 631, 632, 640, 653, 667, 674, 684, 692, 693, 695, 725, 731, 733, 740, 742, 751, 753, 760, 777, 791, 797, 811, 814, 830] batches effected\n",
      "All data: Mean loss: 0.0028, Accuracy: 9513/10000 (95%)\n",
      "Threes  : Mean loss: 0.0014, Accuracy: 744/1010 (74%)\n",
      "Nonthree: Mean loss: 0.0013, Accuracy: 8769/8990 (98%)\n",
      "Time taken: 11343.13200801\n",
      "Epoch: 2 [ 53248]\tLoss: 0.085618[0, 21, 22, 44, 58, 69, 100, 107, 112, 119, 120, 132, 158, 159, 164, 169, 191, 202, 203, 211, 224, 241, 250, 257, 265, 275, 276, 278, 288, 312, 321, 323, 327, 335, 344, 345, 350, 376, 379, 391, 397, 398, 400, 402, 406, 415, 417, 442, 453, 457, 461, 484, 503, 504, 506, 519, 531, 536, 549, 553, 564, 566, 567, 580, 588, 591, 596, 599, 601, 609, 614, 623, 624, 625, 636, 660, 673, 694, 702, 739, 743, 749, 756, 762, 768, 771, 772, 786, 802, 815, 821, 831, 841] batches effected\n",
      "All data: Mean loss: 0.0018, Accuracy: 9707/10000 (97%)\n",
      "Threes  : Mean loss: 0.0012, Accuracy: 811/1010 (80%)\n",
      "Nonthree: Mean loss: 0.0006, Accuracy: 8896/8990 (99%)\n",
      "Time taken: 11577.429856777999\n",
      "Epoch: 3 [ 53248]\tLoss: 0.070577[0, 9, 23, 28, 31, 33, 35, 39, 60, 75, 78, 83, 92, 102, 115, 118, 128, 139, 168, 184, 197, 211, 213, 216, 220, 236, 238, 263, 266, 270, 281, 286, 308, 317, 319, 322, 323, 333, 336, 338, 340, 349, 377, 400, 435, 436, 471, 477, 490, 501, 507, 508, 518, 522, 525, 529, 533, 536, 556, 571, 583, 586, 592, 596, 601, 602, 604, 610, 612, 628, 630, 647, 660, 674, 677, 680, 685, 706, 721, 723, 725, 731, 732, 747, 763, 769, 771, 779, 796, 801, 809, 815, 816, 830, 840] batches effected\n",
      "All data: Mean loss: 0.0013, Accuracy: 9785/10000 (98%)\n",
      "Threes  : Mean loss: 0.0007, Accuracy: 899/1010 (89%)\n",
      "Nonthree: Mean loss: 0.0005, Accuracy: 8886/8990 (99%)\n",
      "Time taken: 11208.754961476\n",
      "Epoch: 4 [ 53248]\tLoss: 0.016052[6, 24, 33, 34, 35, 39, 40, 48, 52, 54, 68, 74, 103, 108, 134, 137, 148, 167, 175, 202, 209, 213, 220, 224, 234, 235, 239, 244, 246, 248, 252, 259, 260, 270, 279, 285, 301, 303, 322, 331, 333, 339, 354, 356, 358, 363, 383, 421, 434, 437, 442, 443, 451, 454, 457, 467, 468, 482, 518, 526, 532, 534, 537, 550, 554, 560, 564, 572, 600, 610, 648, 649, 651, 664, 672, 673, 680, 681, 685, 688, 692, 698, 721, 724, 725, 741, 754, 757, 761, 769, 775, 791, 792, 795, 798, 828, 834] batches effected\n",
      "All data: Mean loss: 0.0011, Accuracy: 9802/10000 (98%)\n",
      "Threes  : Mean loss: 0.0006, Accuracy: 928/1010 (92%)\n",
      "Nonthree: Mean loss: 0.0006, Accuracy: 8874/8990 (99%)\n",
      "Time taken: 11810.26190179\n",
      "Epoch: 5 [ 53248]\tLoss: 0.001358[2, 3, 24, 47, 51, 64, 76, 94, 96, 101, 124, 128, 130, 140, 144, 146, 190, 191, 195, 196, 208, 209, 224, 225, 240, 243, 245, 259, 264, 270, 281, 287, 320, 328, 336, 345, 360, 367, 369, 381, 382, 413, 424, 426, 443, 452, 453, 469, 480, 483, 500, 501, 507, 512, 525, 543, 544, 548, 591, 592, 595, 606, 618, 622, 623, 627, 640, 641, 644, 658, 661, 666, 675, 676, 678, 700, 715, 748, 754, 755, 765, 770, 771, 786, 788, 793, 806, 809, 814, 819, 827, 830, 831, 834, 835] batches effected\n",
      "All data: Mean loss: 0.0012, Accuracy: 9814/10000 (98%)\n",
      "Threes  : Mean loss: 0.0006, Accuracy: 923/1010 (91%)\n",
      "Nonthree: Mean loss: 0.0006, Accuracy: 8891/8990 (99%)\n",
      "Time taken: 11567.356894363002\n",
      "Epoch: 6 [ 53248]\tLoss: 0.103166[25, 31, 39, 46, 57, 60, 69, 91, 95, 99, 112, 114, 128, 141, 146, 172, 177, 179, 186, 196, 216, 223, 245, 246, 250, 254, 259, 270, 287, 291, 295, 298, 300, 301, 303, 310, 323, 324, 325, 331, 332, 344, 345, 348, 359, 367, 368, 370, 373, 381, 387, 388, 389, 400, 430, 442, 444, 445, 450, 460, 467, 468, 489, 496, 499, 519, 549, 552, 559, 560, 568, 574, 581, 590, 602, 606, 620, 625, 644, 647, 648, 680, 687, 715, 718, 733, 746, 750, 769, 774, 783, 807, 811, 819, 843] batches effected\n",
      "All data: Mean loss: 0.0011, Accuracy: 9821/10000 (98%)\n",
      "Threes  : Mean loss: 0.0007, Accuracy: 903/1010 (89%)\n",
      "Nonthree: Mean loss: 0.0004, Accuracy: 8918/8990 (99%)\n",
      "Time taken: 11342.846755858001\n",
      "Epoch: 7 [ 53248]\tLoss: 0.012063[7, 15, 19, 40, 42, 48, 49, 53, 78, 81, 93, 97, 101, 105, 117, 124, 161, 174, 176, 182, 185, 187, 188, 193, 214, 221, 245, 250, 260, 261, 270, 277, 286, 289, 298, 300, 301, 349, 358, 368, 374, 390, 393, 398, 407, 415, 424, 427, 431, 436, 445, 449, 450, 463, 467, 469, 478, 495, 509, 520, 535, 552, 565, 582, 584, 589, 593, 605, 614, 615, 636, 637, 638, 646, 656, 664, 665, 673, 674, 675, 676, 677, 696, 702, 703, 721, 723, 739, 771, 779, 803, 823, 829] batches effected\n",
      "All data: Mean loss: 0.0010, Accuracy: 9828/10000 (98%)\n",
      "Threes  : Mean loss: 0.0007, Accuracy: 906/1010 (90%)\n",
      "Nonthree: Mean loss: 0.0004, Accuracy: 8922/8990 (99%)\n",
      "Time taken: 11521.058296517003\n",
      "Epoch: 8 [ 53248]\tLoss: 0.011972[3, 7, 8, 12, 20, 23, 29, 36, 47, 59, 61, 63, 64, 66, 77, 87, 110, 120, 122, 130, 147, 165, 167, 193, 206, 208, 211, 214, 217, 228, 231, 249, 250, 256, 259, 263, 282, 286, 289, 307, 308, 321, 342, 347, 378, 379, 403, 412, 421, 429, 439, 441, 445, 457, 460, 470, 479, 528, 538, 540, 554, 566, 567, 601, 603, 606, 608, 623, 643, 656, 669, 672, 685, 696, 704, 708, 712, 729, 731, 732, 744, 747, 748, 768, 785, 790, 794, 795, 801, 823] batches effected\n",
      "All data: Mean loss: 0.0016, Accuracy: 9774/10000 (98%)\n",
      "Threes  : Mean loss: 0.0011, Accuracy: 871/1010 (86%)\n",
      "Nonthree: Mean loss: 0.0005, Accuracy: 8903/8990 (99%)\n",
      "Time taken: 11478.315590739003\n",
      "Epoch: 9 [ 53248]\tLoss: 0.010711[5, 18, 28, 36, 43, 55, 77, 86, 94, 96, 100, 101, 106, 113, 151, 162, 165, 178, 182, 187, 191, 202, 204, 207, 215, 236, 241, 244, 246, 247, 276, 277, 280, 297, 308, 311, 343, 347, 355, 362, 367, 374, 395, 400, 410, 417, 425, 428, 440, 446, 450, 452, 455, 462, 493, 495, 502, 503, 507, 529, 532, 575, 582, 599, 600, 601, 603, 604, 607, 632, 634, 645, 652, 653, 659, 667, 668, 676, 677, 697, 719, 722, 729, 738, 746, 757, 772, 774, 780, 782, 788, 801, 803, 809, 822, 826, 833, 836, 842] batches effected\n",
      "All data: Mean loss: 0.0023, Accuracy: 9679/10000 (97%)\n",
      "Threes  : Mean loss: 0.0018, Accuracy: 784/1010 (78%)\n",
      "Nonthree: Mean loss: 0.0006, Accuracy: 8895/8990 (99%)\n",
      "Time taken: 11703.841192559004\n",
      "Epoch: 10 [ 53248]\tLoss: 0.002363[24, 29, 39, 50, 55, 57, 80, 98, 100, 104, 109, 118, 130, 135, 138, 171, 179, 181, 185, 192, 210, 215, 223, 224, 239, 240, 254, 256, 260, 262, 275, 281, 298, 306, 312, 315, 317, 324, 333, 335, 342, 344, 349, 356, 382, 384, 388, 394, 404, 417, 421, 424, 426, 453, 460, 463, 467, 469, 472, 495, 502, 508, 519, 539, 556, 562, 566, 574, 587, 592, 597, 606, 611, 614, 624, 628, 642, 651, 659, 667, 670, 681, 686, 692, 693, 708, 713, 730, 732, 740, 747, 755, 780, 785, 796, 815, 817, 824] batches effected\n",
      "All data: Mean loss: 0.0011, Accuracy: 9856/10000 (99%)\n",
      "Threes  : Mean loss: 0.0007, Accuracy: 925/1010 (92%)\n",
      "Nonthree: Mean loss: 0.0004, Accuracy: 8931/8990 (99%)\n",
      "Time taken: 11510.341253327992\n"
     ]
    }
   ],
   "source": [
    "# --- 5エポックだけ新しいモデル(resnet)を学習し、途中指標とチェックポイントを残す ---\n",
    "\n",
    "steps = []                                # Amnesiac用：Δθ（各バッチの重み差分）を全エポック分まとめるリスト\n",
    "for epoch in range(1, trainingepochs + 1):\n",
    "    starttime = time.process_time()       # 1エポックにかかったCPU時間を測るための開始時刻\n",
    "\n",
    "    # -----------------------------------------------------------\n",
    "    # ① 学習フェーズ\n",
    "    # three_train_loader ＝ 「クラス3だけ100枚＋その他全クラス」の訓練セット\n",
    "    # returnable=True なので train() は途中精度やΔθを返してくれる\n",
    "    # 返ってくるもの：\n",
    "    #   thracc        : 10バッチごとの「クラス3だけ」の精度 [%] のリスト\n",
    "    #   nacc          : 同 「クラス3以外」の精度 [%] のリスト\n",
    "    #   three_batches : Δθを保存したバッチ番号のリスト\n",
    "    #   three_steps   : ΔθをPythonオブジェクトとして返したもの\n",
    "    # -----------------------------------------------------------\n",
    "    thracc, nacc, three_batches, three_steps = train(\n",
    "        resnet, epoch, three_train_loader, returnable=True\n",
    "    )\n",
    "\n",
    "    # --- ② 途中精度を累積グラフ用リストに追記 --------------------\n",
    "    naive_accuracy_three   += thracc     # クラス3精度\n",
    "    naive_accuracy_nonthree += nacc      # クラス3以外精度\n",
    "\n",
    "    # --- ③ Δθ をすべてまとめて保持（後で巻き戻しに使う） -------\n",
    "    steps += three_steps\n",
    "\n",
    "    # --- ④ 学習中に「クラス3を含むバッチ」が何個あったか表示 -----\n",
    "    print(f\"{three_batches} batches effected\")\n",
    "\n",
    "    # --- ⑤ テストフェーズ：3種類の精度を出力 ----------------------\n",
    "    test(resnet, all_data_test_loader,  dname=\"All data\")   # 全クラス\n",
    "    test(resnet, three_test_loader,     dname=\"Threes  \")   # クラス3だけ\n",
    "    test(resnet, nonthree_test_loader,  dname=\"Nonthree\")   # クラス3以外\n",
    "\n",
    "    # --- ⑥ エポックに要した時間を表示 -----------------------------\n",
    "    print(f\"Time taken: {time.process_time() - starttime:.1f}s\")\n",
    "\n",
    "    # -----------------------------------------------------------\n",
    "    # ⑦ チェックポイントを保存（モデル重み＋オプティマイザ状態）\n",
    "    #    例: resnet/selective_trained_e1.pt\n",
    "    # -----------------------------------------------------------\n",
    "    ckpt_path = f\"resnet/selective_trained_e{epoch}.pt\"\n",
    "    torch.save({\n",
    "        'model_state_dict':     resnet.state_dict(),\n",
    "        'optimizer_state_dict': optimizer.state_dict(),\n",
    "    }, ckpt_path)\n",
    "\n",
    "    # -----------------------------------------------------------\n",
    "    # ⑧ 精度推移をテキストに保存（グラフ描画や再解析用）\n",
    "    #    クラス3精度 → *_accuracy_three_e{epoch}.txt\n",
    "    #    クラス3以外 → *_accuracy_nonthree_e{epoch}.txt\n",
    "    #    カンマ区切りで追記せず“都度まるごと”書き直す\n",
    "    # -----------------------------------------------------------\n",
    "    path = f\"resnet/selective_trained_accuracy_three_e{epoch}.txt\"\n",
    "    with open(path, 'w') as f:\n",
    "        for val in naive_accuracy_three:\n",
    "            f.write(f\"{val},\")            # 例: 0.78,0.80,0.82,...\n",
    "\n",
    "    path = f\"resnet/selective_trained_accuracy_nonthree_e{epoch}.txt\"\n",
    "    with open(path, 'w') as f:\n",
    "        for val in naive_accuracy_nonthree:\n",
    "            f.write(f\"{val},\")\n"
   ]
  },
  {
   "cell_type": "code",
   "execution_count": 16,
   "metadata": {},
   "outputs": [],
   "source": [
    "path = F\"resnet/selective_trained.pt\"\n",
    "torch.save({\n",
    "            'model_state_dict': resnet.state_dict(),\n",
    "            'optimizer_state_dict': optimizer.state_dict(),\n",
    "            }, path)"
   ]
  },
  {
   "cell_type": "code",
   "execution_count": 17,
   "metadata": {
    "colab": {},
    "colab_type": "code",
    "executionInfo": {
     "elapsed": 3360,
     "status": "ok",
     "timestamp": 1597328742313,
     "user": {
      "displayName": "Laura Graves",
      "photoUrl": "https://lh3.googleusercontent.com/a-/AOh14GiKkfAu7BQzHB05KzNcpkWJTPiliHjKSyQr1GwxRA=s64",
      "userId": "02198458421856045349"
     },
     "user_tz": 240
    },
    "id": "sSoTQ-Oi_jKu"
   },
   "outputs": [],
   "source": [
    "path = F\"resnet/selective_trained.pt\"\n",
    "torch.save({\n",
    "            'model_state_dict': resnet.state_dict(),\n",
    "            'optimizer_state_dict': optimizer.state_dict(),\n",
    "            }, path)"
   ]
  },
  {
   "cell_type": "code",
   "execution_count": 18,
   "metadata": {
    "colab": {},
    "colab_type": "code",
    "executionInfo": {
     "elapsed": 3355,
     "status": "ok",
     "timestamp": 1597328742313,
     "user": {
      "displayName": "Laura Graves",
      "photoUrl": "https://lh3.googleusercontent.com/a-/AOh14GiKkfAu7BQzHB05KzNcpkWJTPiliHjKSyQr1GwxRA=s64",
      "userId": "02198458421856045349"
     },
     "user_tz": 240
    },
    "id": "FLTmUxvbJvmG"
   },
   "outputs": [],
   "source": [
    "path = F\"resnet/selective_trained_accuracy_three.txt\"\n",
    "with open(path, 'w') as f:\n",
    "  for data in naive_accuracy_three:\n",
    "    f.write(f\"{data},\")"
   ]
  },
  {
   "cell_type": "code",
   "execution_count": 19,
   "metadata": {
    "colab": {},
    "colab_type": "code",
    "executionInfo": {
     "elapsed": 3353,
     "status": "ok",
     "timestamp": 1597328742315,
     "user": {
      "displayName": "Laura Graves",
      "photoUrl": "https://lh3.googleusercontent.com/a-/AOh14GiKkfAu7BQzHB05KzNcpkWJTPiliHjKSyQr1GwxRA=s64",
      "userId": "02198458421856045349"
     },
     "user_tz": 240
    },
    "id": "3eKKvB-pJwSX"
   },
   "outputs": [],
   "source": [
    "path = F\"resnet/selective_trained_accuracy_nonthree.txt\"\n",
    "with open(path, 'w') as f:\n",
    "  for data in naive_accuracy_nonthree:\n",
    "    f.write(f\"{data},\")"
   ]
  },
  {
   "cell_type": "code",
   "execution_count": 20,
   "metadata": {},
   "outputs": [],
   "source": [
    "path = F\"resnet/selective_trained.pt\"\n",
    "checkpoint = torch.load(path)\n",
    "resnet.load_state_dict(checkpoint['model_state_dict'])\n",
    "optimizer.load_state_dict(checkpoint['optimizer_state_dict'])"
   ]
  },
  {
   "cell_type": "code",
   "execution_count": 21,
   "metadata": {},
   "outputs": [
    {
     "name": "stdout",
     "output_type": "stream",
     "text": [
      "Loading steps/e10b0824.pkl"
     ]
    }
   ],
   "source": [
    "# ---------------- Amnesiac Unlearning 巻き戻しループ ----------------\n",
    "# 学習時に保存しておいた Δθ ファイル（steps/e{エポック}b{バッチ}.pkl）を\n",
    "# 1 つずつ読み込み、そのバッチがモデルに与えた更新量を “そっくり引き算”\n",
    "# することで、該当データを “忘れさせる” 処理です。\n",
    "# ------------------------------------------------------------------\n",
    "\n",
    "for i in range(1, trainingepochs + 1):        # ① 学習に使った全エポックを順に\n",
    "    for j in range(1600):                     # ② 1エポック≦1,600バッチまで走査\n",
    "        path = f\"steps/e{i}b{j:04}.pkl\"       #    例: steps/e3b0057.pkl\n",
    "\n",
    "        try:\n",
    "            # ③ Δθ ファイルを開いてロード\n",
    "            f = open(path, \"rb\")\n",
    "            steps = pickle.load(f)            #    steps は dict{層名: Tensor(Δθ)}\n",
    "            f.close()\n",
    "\n",
    "            print(f\"\\rLoading {path}\", end=\"\") # 進捗メッセージ\n",
    "\n",
    "            const = 1                         # ④ 巻き戻し係数 1=完全巻き戻し\n",
    "            with torch.no_grad():             #    勾配計算を無効に\n",
    "                state = resnet.state_dict()   #    現在の重み辞書を取得\n",
    "                for param_tensor in state:    # ⑤ 全レイヤを走査\n",
    "                    # \"weight\"/\"bias\" を含む名前だけ対象にする\n",
    "                    if \"weight\" in param_tensor or \"bias\" in param_tensor:\n",
    "                        # ★ 核心 ★\n",
    "                        #   重み ← 重み − const × Δθ\n",
    "                        state[param_tensor] = (\n",
    "                            state[param_tensor] - const * steps[param_tensor]\n",
    "                        )\n",
    "\n",
    "            resnet.load_state_dict(state)     # ⑥ 更新後の重みをモデルに反映\n",
    "\n",
    "        except FileNotFoundError:\n",
    "            # ⑦ ファイルが無い＝そのバッチは保存していなかった → 何もしない\n",
    "            pass\n"
   ]
  },
  {
   "cell_type": "code",
   "execution_count": 32,
   "metadata": {},
   "outputs": [
    {
     "name": "stdout",
     "output_type": "stream",
     "text": [
      "All data: Mean loss: 0.0211, Accuracy: 8694/10000 (87%)\n",
      "Threes  : Mean loss: 0.0196, Accuracy: 0/1010 (0%)\n",
      "Nonthree: Mean loss: 0.0017, Accuracy: 8694/8990 (97%)\n"
     ]
    },
    {
     "data": {
      "text/plain": [
       "tensor(0.967)"
      ]
     },
     "execution_count": 32,
     "metadata": {},
     "output_type": "execute_result"
    }
   ],
   "source": [
    "test(resnet, all_data_test_loader, dname=\"All data\")\n",
    "test(resnet, three_test_loader, dname=\"Threes  \")\n",
    "test(resnet, nonthree_test_loader, dname=\"Nonthree\")"
   ]
  },
  {
   "cell_type": "code",
   "execution_count": 22,
   "metadata": {},
   "outputs": [],
   "source": [
    "path = F\"resnet/selective_post_trained.pt\"\n",
    "torch.save({\n",
    "            'model_state_dict': resnet.state_dict(),\n",
    "            'optimizer_state_dict': optimizer.state_dict(),\n",
    "            }, path)"
   ]
  },
  {
   "cell_type": "code",
   "execution_count": 23,
   "metadata": {},
   "outputs": [],
   "source": [
    "path = F\"resnet/selective_post_trained.pt\"\n",
    "checkpoint = torch.load(path)\n",
    "resnet.load_state_dict(checkpoint['model_state_dict'])\n",
    "optimizer.load_state_dict(checkpoint['optimizer_state_dict'])"
   ]
  },
  {
   "cell_type": "code",
   "execution_count": 17,
   "metadata": {},
   "outputs": [],
   "source": [
    "selective_post_accuracy_three = []\n",
    "selective_post_accuracy_nonthree =[]"
   ]
  },
  {
   "cell_type": "code",
   "execution_count": 18,
   "metadata": {},
   "outputs": [
    {
     "name": "stdout",
     "output_type": "stream",
     "text": [
      "Epoch: 11 [ 53248]\tLoss: 0.090579All data: Mean loss: 0.0148, Accuracy: 8804/10000 (88%)\n",
      "Threes  : Mean loss: 0.0141, Accuracy: 0/1010 (0%)\n",
      "Nonthree: Mean loss: 0.0009, Accuracy: 8804/8990 (98%)\n",
      "Epoch: 12 [ 53248]\tLoss: 0.031465All data: Mean loss: 0.0167, Accuracy: 8826/10000 (88%)\n",
      "Threes  : Mean loss: 0.0160, Accuracy: 0/1010 (0%)\n",
      "Nonthree: Mean loss: 0.0008, Accuracy: 8826/8990 (98%)\n",
      "Epoch: 13 [ 53248]\tLoss: 0.122259All data: Mean loss: 0.0168, Accuracy: 8848/10000 (88%)\n",
      "Threes  : Mean loss: 0.0162, Accuracy: 0/1010 (0%)\n",
      "Nonthree: Mean loss: 0.0007, Accuracy: 8848/8990 (98%)\n",
      "Epoch: 14 [ 53248]\tLoss: 0.012098All data: Mean loss: 0.0185, Accuracy: 8903/10000 (89%)\n",
      "Threes  : Mean loss: 0.0183, Accuracy: 0/1010 (0%)\n",
      "Nonthree: Mean loss: 0.0005, Accuracy: 8903/8990 (99%)\n",
      "Epoch: 15 [ 53248]\tLoss: 0.003702All data: Mean loss: 0.0193, Accuracy: 8903/10000 (89%)\n",
      "Threes  : Mean loss: 0.0189, Accuracy: 0/1010 (0%)\n",
      "Nonthree: Mean loss: 0.0005, Accuracy: 8903/8990 (99%)\n",
      "Epoch: 16 [ 53248]\tLoss: 0.048239All data: Mean loss: 0.0187, Accuracy: 8893/10000 (89%)\n",
      "Threes  : Mean loss: 0.0184, Accuracy: 0/1010 (0%)\n",
      "Nonthree: Mean loss: 0.0005, Accuracy: 8893/8990 (99%)\n",
      "Epoch: 17 [ 53248]\tLoss: 0.109868All data: Mean loss: 0.0173, Accuracy: 8895/10000 (89%)\n",
      "Threes  : Mean loss: 0.0171, Accuracy: 0/1010 (0%)\n",
      "Nonthree: Mean loss: 0.0005, Accuracy: 8895/8990 (99%)\n",
      "Epoch: 18 [ 53248]\tLoss: 0.034524All data: Mean loss: 0.0173, Accuracy: 8900/10000 (89%)\n",
      "Threes  : Mean loss: 0.0170, Accuracy: 0/1010 (0%)\n",
      "Nonthree: Mean loss: 0.0005, Accuracy: 8900/8990 (99%)\n",
      "Epoch: 19 [ 53248]\tLoss: 0.083364All data: Mean loss: 0.0196, Accuracy: 8886/10000 (89%)\n",
      "Threes  : Mean loss: 0.0191, Accuracy: 0/1010 (0%)\n",
      "Nonthree: Mean loss: 0.0006, Accuracy: 8886/8990 (99%)\n",
      "Epoch: 20 [ 53248]\tLoss: 0.000492All data: Mean loss: 0.0248, Accuracy: 8923/10000 (89%)\n",
      "Threes  : Mean loss: 0.0247, Accuracy: 0/1010 (0%)\n",
      "Nonthree: Mean loss: 0.0004, Accuracy: 8923/8990 (99%)\n"
     ]
    }
   ],
   "source": [
    "# Train model for 10 epochs\n",
    "for epoch in range(trainingepochs+1,trainingepochs+forgetfulepochs+1):\n",
    "  # train(resnet, epoch, nonthree_train_loader, returnable=False)\n",
    "  thracc, nacc, _, _ = train(resnet, epoch, nonthree_train_loader, returnable=True)\n",
    "  selective_post_accuracy_three += thracc\n",
    "  selective_post_accuracy_nonthree += nacc\n",
    "  test(resnet, all_data_test_loader, dname=\"All data\")\n",
    "  test(resnet, three_test_loader, dname=\"Threes  \")\n",
    "  test(resnet, nonthree_test_loader, dname=\"Nonthree\")\n",
    "  path = F\"resnet/selective-post-epoch-{epoch}.pt\"\n",
    "  torch.save({ \n",
    "            'model_state_dict': resnet.state_dict(),\n",
    "            'optimizer_state_dict': optimizer.state_dict(),\n",
    "            }, path)\n",
    "  path = F\"resnet/selective_post_accuracy_three_e{epoch}.txt\"\n",
    "  with open(path, 'w') as f:\n",
    "    for data in naive_accuracy_three:\n",
    "      f.write(f\"{data},\")\n",
    "  path = F\"resnet/selective_post_accuracy_nonthree_e{epoch}.txt\"\n",
    "  with open(path, 'w') as f:\n",
    "    for data in naive_accuracy_nonthree:\n",
    "      f.write(f\"{data},\")"
   ]
  },
  {
   "cell_type": "code",
   "execution_count": 19,
   "metadata": {},
   "outputs": [],
   "source": [
    "path = F\"resnet/selective_post_accuracy_three.txt\"\n",
    "with open(path, 'w') as f:\n",
    "  for data in selective_post_accuracy_three:\n",
    "    f.write(f\"{data},\")"
   ]
  },
  {
   "cell_type": "code",
   "execution_count": 20,
   "metadata": {},
   "outputs": [],
   "source": [
    "path = F\"resnet/selective_post_accuracy_nonthree.txt\"\n",
    "with open(path, 'w') as f:\n",
    "  for data in selective_post_accuracy_nonthree:\n",
    "    f.write(f\"{data},\")"
   ]
  },
  {
   "cell_type": "code",
   "execution_count": null,
   "metadata": {},
   "outputs": [],
   "source": []
  }
 ],
 "metadata": {
  "accelerator": "GPU",
  "colab": {
   "collapsed_sections": [
    "KwC4bhnrgf9G"
   ],
   "machine_shape": "hm",
   "name": "Unlearning Model Inversion - resnet18.ipynb",
   "provenance": [
    {
     "file_id": "1aV7FG_EMmhJuinBhU4DduYVZQJD6XRai",
     "timestamp": 1597065873226
    },
    {
     "file_id": "1DAYnyM3fRyey917NpKUFLffABPi2O_b2",
     "timestamp": 1587398961607
    },
    {
     "file_id": "1KNf7zLGtO-RttM-G245CSk99wGsO_mpj",
     "timestamp": 1573223459394
    }
   ],
   "toc_visible": true
  },
  "kernelspec": {
   "display_name": "venv",
   "language": "python",
   "name": "python3"
  },
  "language_info": {
   "codemirror_mode": {
    "name": "ipython",
    "version": 3
   },
   "file_extension": ".py",
   "mimetype": "text/x-python",
   "name": "python",
   "nbconvert_exporter": "python",
   "pygments_lexer": "ipython3",
   "version": "3.13.3"
  },
  "pycharm": {
   "stem_cell": {
    "cell_type": "raw",
    "metadata": {
     "collapsed": false
    },
    "source": []
   }
  },
  "widgets": {
   "application/vnd.jupyter.widget-state+json": {
    "04fa014b4b174774b2051e6e9491fe09": {
     "model_module": "@jupyter-widgets/base",
     "model_name": "LayoutModel",
     "state": {
      "_model_module": "@jupyter-widgets/base",
      "_model_module_version": "1.2.0",
      "_model_name": "LayoutModel",
      "_view_count": null,
      "_view_module": "@jupyter-widgets/base",
      "_view_module_version": "1.2.0",
      "_view_name": "LayoutView",
      "align_content": null,
      "align_items": null,
      "align_self": null,
      "border": null,
      "bottom": null,
      "display": null,
      "flex": null,
      "flex_flow": null,
      "grid_area": null,
      "grid_auto_columns": null,
      "grid_auto_flow": null,
      "grid_auto_rows": null,
      "grid_column": null,
      "grid_gap": null,
      "grid_row": null,
      "grid_template_areas": null,
      "grid_template_columns": null,
      "grid_template_rows": null,
      "height": null,
      "justify_content": null,
      "justify_items": null,
      "left": null,
      "margin": null,
      "max_height": null,
      "max_width": null,
      "min_height": null,
      "min_width": null,
      "object_fit": null,
      "object_position": null,
      "order": null,
      "overflow": null,
      "overflow_x": null,
      "overflow_y": null,
      "padding": null,
      "right": null,
      "top": null,
      "visibility": null,
      "width": null
     }
    },
    "06a73fae4ed0415b85d31ae2fd7ef4b6": {
     "model_module": "@jupyter-widgets/controls",
     "model_name": "ProgressStyleModel",
     "state": {
      "_model_module": "@jupyter-widgets/controls",
      "_model_module_version": "1.5.0",
      "_model_name": "ProgressStyleModel",
      "_view_count": null,
      "_view_module": "@jupyter-widgets/base",
      "_view_module_version": "1.2.0",
      "_view_name": "StyleView",
      "bar_color": null,
      "description_width": "initial"
     }
    },
    "08dddba55de24a49bf9c84f2cedbba00": {
     "model_module": "@jupyter-widgets/controls",
     "model_name": "FloatProgressModel",
     "state": {
      "_dom_classes": [],
      "_model_module": "@jupyter-widgets/controls",
      "_model_module_version": "1.5.0",
      "_model_name": "FloatProgressModel",
      "_view_count": null,
      "_view_module": "@jupyter-widgets/controls",
      "_view_module_version": "1.5.0",
      "_view_name": "ProgressView",
      "bar_style": "success",
      "description": "",
      "description_tooltip": null,
      "layout": "IPY_MODEL_f4b73c98de9349a09b2275cf2f1ad005",
      "max": 1,
      "min": 0,
      "orientation": "horizontal",
      "style": "IPY_MODEL_4b03eb022f1d445abdc9cc4379238478",
      "value": 1
     }
    },
    "090474d95f1d48d3aecc44f785c57ca2": {
     "model_module": "@jupyter-widgets/controls",
     "model_name": "HTMLModel",
     "state": {
      "_dom_classes": [],
      "_model_module": "@jupyter-widgets/controls",
      "_model_module_version": "1.5.0",
      "_model_name": "HTMLModel",
      "_view_count": null,
      "_view_module": "@jupyter-widgets/controls",
      "_view_module_version": "1.5.0",
      "_view_name": "HTMLView",
      "description": "",
      "description_tooltip": null,
      "layout": "IPY_MODEL_79522c5c11fd455895f6def40115c1b1",
      "placeholder": "​",
      "style": "IPY_MODEL_72ee481e0e90406baf0bf2722f026b8a",
      "value": " 1654784/? [00:00&lt;00:00, 3158962.54it/s]"
     }
    },
    "156b1c5c87534d6a97220dc9177a59df": {
     "model_module": "@jupyter-widgets/base",
     "model_name": "LayoutModel",
     "state": {
      "_model_module": "@jupyter-widgets/base",
      "_model_module_version": "1.2.0",
      "_model_name": "LayoutModel",
      "_view_count": null,
      "_view_module": "@jupyter-widgets/base",
      "_view_module_version": "1.2.0",
      "_view_name": "LayoutView",
      "align_content": null,
      "align_items": null,
      "align_self": null,
      "border": null,
      "bottom": null,
      "display": null,
      "flex": null,
      "flex_flow": null,
      "grid_area": null,
      "grid_auto_columns": null,
      "grid_auto_flow": null,
      "grid_auto_rows": null,
      "grid_column": null,
      "grid_gap": null,
      "grid_row": null,
      "grid_template_areas": null,
      "grid_template_columns": null,
      "grid_template_rows": null,
      "height": null,
      "justify_content": null,
      "justify_items": null,
      "left": null,
      "margin": null,
      "max_height": null,
      "max_width": null,
      "min_height": null,
      "min_width": null,
      "object_fit": null,
      "object_position": null,
      "order": null,
      "overflow": null,
      "overflow_x": null,
      "overflow_y": null,
      "padding": null,
      "right": null,
      "top": null,
      "visibility": null,
      "width": null
     }
    },
    "35c84a4ed1ba4870b1336e006c33e767": {
     "model_module": "@jupyter-widgets/base",
     "model_name": "LayoutModel",
     "state": {
      "_model_module": "@jupyter-widgets/base",
      "_model_module_version": "1.2.0",
      "_model_name": "LayoutModel",
      "_view_count": null,
      "_view_module": "@jupyter-widgets/base",
      "_view_module_version": "1.2.0",
      "_view_name": "LayoutView",
      "align_content": null,
      "align_items": null,
      "align_self": null,
      "border": null,
      "bottom": null,
      "display": null,
      "flex": null,
      "flex_flow": null,
      "grid_area": null,
      "grid_auto_columns": null,
      "grid_auto_flow": null,
      "grid_auto_rows": null,
      "grid_column": null,
      "grid_gap": null,
      "grid_row": null,
      "grid_template_areas": null,
      "grid_template_columns": null,
      "grid_template_rows": null,
      "height": null,
      "justify_content": null,
      "justify_items": null,
      "left": null,
      "margin": null,
      "max_height": null,
      "max_width": null,
      "min_height": null,
      "min_width": null,
      "object_fit": null,
      "object_position": null,
      "order": null,
      "overflow": null,
      "overflow_x": null,
      "overflow_y": null,
      "padding": null,
      "right": null,
      "top": null,
      "visibility": null,
      "width": null
     }
    },
    "3b9265b3099846aabd75858c3bb5f5df": {
     "model_module": "@jupyter-widgets/controls",
     "model_name": "ProgressStyleModel",
     "state": {
      "_model_module": "@jupyter-widgets/controls",
      "_model_module_version": "1.5.0",
      "_model_name": "ProgressStyleModel",
      "_view_count": null,
      "_view_module": "@jupyter-widgets/base",
      "_view_module_version": "1.2.0",
      "_view_name": "StyleView",
      "bar_color": null,
      "description_width": "initial"
     }
    },
    "3d9642bfafc541a88affbf65e89700fd": {
     "model_module": "@jupyter-widgets/controls",
     "model_name": "DescriptionStyleModel",
     "state": {
      "_model_module": "@jupyter-widgets/controls",
      "_model_module_version": "1.5.0",
      "_model_name": "DescriptionStyleModel",
      "_view_count": null,
      "_view_module": "@jupyter-widgets/base",
      "_view_module_version": "1.2.0",
      "_view_name": "StyleView",
      "description_width": ""
     }
    },
    "46066bea204a4bbe830528b5de0c8372": {
     "model_module": "@jupyter-widgets/controls",
     "model_name": "HBoxModel",
     "state": {
      "_dom_classes": [],
      "_model_module": "@jupyter-widgets/controls",
      "_model_module_version": "1.5.0",
      "_model_name": "HBoxModel",
      "_view_count": null,
      "_view_module": "@jupyter-widgets/controls",
      "_view_module_version": "1.5.0",
      "_view_name": "HBoxView",
      "box_style": "",
      "children": [
       "IPY_MODEL_ee278e96efb140cd8720739850c7567f",
       "IPY_MODEL_71cb68dc80304efda622d5b0292667fb"
      ],
      "layout": "IPY_MODEL_b05a86270f424627bf697b84cb880d3b"
     }
    },
    "4b03eb022f1d445abdc9cc4379238478": {
     "model_module": "@jupyter-widgets/controls",
     "model_name": "ProgressStyleModel",
     "state": {
      "_model_module": "@jupyter-widgets/controls",
      "_model_module_version": "1.5.0",
      "_model_name": "ProgressStyleModel",
      "_view_count": null,
      "_view_module": "@jupyter-widgets/base",
      "_view_module_version": "1.2.0",
      "_view_name": "StyleView",
      "bar_color": null,
      "description_width": "initial"
     }
    },
    "5a222c004e144a9a89806b32517d1abe": {
     "model_module": "@jupyter-widgets/controls",
     "model_name": "FloatProgressModel",
     "state": {
      "_dom_classes": [],
      "_model_module": "@jupyter-widgets/controls",
      "_model_module_version": "1.5.0",
      "_model_name": "FloatProgressModel",
      "_view_count": null,
      "_view_module": "@jupyter-widgets/controls",
      "_view_module_version": "1.5.0",
      "_view_name": "ProgressView",
      "bar_style": "success",
      "description": "",
      "description_tooltip": null,
      "layout": "IPY_MODEL_a271a8b73de64d328aae4b7f5be56de6",
      "max": 1,
      "min": 0,
      "orientation": "horizontal",
      "style": "IPY_MODEL_be4bf227a70547f8a6718540b82c65a8",
      "value": 1
     }
    },
    "5dca13cc37aa42769c223bb2198592dc": {
     "model_module": "@jupyter-widgets/controls",
     "model_name": "DescriptionStyleModel",
     "state": {
      "_model_module": "@jupyter-widgets/controls",
      "_model_module_version": "1.5.0",
      "_model_name": "DescriptionStyleModel",
      "_view_count": null,
      "_view_module": "@jupyter-widgets/base",
      "_view_module_version": "1.2.0",
      "_view_name": "StyleView",
      "description_width": ""
     }
    },
    "71cb68dc80304efda622d5b0292667fb": {
     "model_module": "@jupyter-widgets/controls",
     "model_name": "HTMLModel",
     "state": {
      "_dom_classes": [],
      "_model_module": "@jupyter-widgets/controls",
      "_model_module_version": "1.5.0",
      "_model_name": "HTMLModel",
      "_view_count": null,
      "_view_module": "@jupyter-widgets/controls",
      "_view_module_version": "1.5.0",
      "_view_name": "HTMLView",
      "description": "",
      "description_tooltip": null,
      "layout": "IPY_MODEL_c538440ed4804e68beebf63eab85c61b",
      "placeholder": "​",
      "style": "IPY_MODEL_fd7f85df549c48b0b243f60fd4cb5b0f",
      "value": " 9920512/? [00:01&lt;00:00, 6982551.05it/s]"
     }
    },
    "72ee481e0e90406baf0bf2722f026b8a": {
     "model_module": "@jupyter-widgets/controls",
     "model_name": "DescriptionStyleModel",
     "state": {
      "_model_module": "@jupyter-widgets/controls",
      "_model_module_version": "1.5.0",
      "_model_name": "DescriptionStyleModel",
      "_view_count": null,
      "_view_module": "@jupyter-widgets/base",
      "_view_module_version": "1.2.0",
      "_view_name": "StyleView",
      "description_width": ""
     }
    },
    "790abeec3d4241c1b4bc1e69086308dc": {
     "model_module": "@jupyter-widgets/base",
     "model_name": "LayoutModel",
     "state": {
      "_model_module": "@jupyter-widgets/base",
      "_model_module_version": "1.2.0",
      "_model_name": "LayoutModel",
      "_view_count": null,
      "_view_module": "@jupyter-widgets/base",
      "_view_module_version": "1.2.0",
      "_view_name": "LayoutView",
      "align_content": null,
      "align_items": null,
      "align_self": null,
      "border": null,
      "bottom": null,
      "display": null,
      "flex": null,
      "flex_flow": null,
      "grid_area": null,
      "grid_auto_columns": null,
      "grid_auto_flow": null,
      "grid_auto_rows": null,
      "grid_column": null,
      "grid_gap": null,
      "grid_row": null,
      "grid_template_areas": null,
      "grid_template_columns": null,
      "grid_template_rows": null,
      "height": null,
      "justify_content": null,
      "justify_items": null,
      "left": null,
      "margin": null,
      "max_height": null,
      "max_width": null,
      "min_height": null,
      "min_width": null,
      "object_fit": null,
      "object_position": null,
      "order": null,
      "overflow": null,
      "overflow_x": null,
      "overflow_y": null,
      "padding": null,
      "right": null,
      "top": null,
      "visibility": null,
      "width": null
     }
    },
    "79522c5c11fd455895f6def40115c1b1": {
     "model_module": "@jupyter-widgets/base",
     "model_name": "LayoutModel",
     "state": {
      "_model_module": "@jupyter-widgets/base",
      "_model_module_version": "1.2.0",
      "_model_name": "LayoutModel",
      "_view_count": null,
      "_view_module": "@jupyter-widgets/base",
      "_view_module_version": "1.2.0",
      "_view_name": "LayoutView",
      "align_content": null,
      "align_items": null,
      "align_self": null,
      "border": null,
      "bottom": null,
      "display": null,
      "flex": null,
      "flex_flow": null,
      "grid_area": null,
      "grid_auto_columns": null,
      "grid_auto_flow": null,
      "grid_auto_rows": null,
      "grid_column": null,
      "grid_gap": null,
      "grid_row": null,
      "grid_template_areas": null,
      "grid_template_columns": null,
      "grid_template_rows": null,
      "height": null,
      "justify_content": null,
      "justify_items": null,
      "left": null,
      "margin": null,
      "max_height": null,
      "max_width": null,
      "min_height": null,
      "min_width": null,
      "object_fit": null,
      "object_position": null,
      "order": null,
      "overflow": null,
      "overflow_x": null,
      "overflow_y": null,
      "padding": null,
      "right": null,
      "top": null,
      "visibility": null,
      "width": null
     }
    },
    "987ffacff90040d5b07a2f462c42ab5f": {
     "model_module": "@jupyter-widgets/base",
     "model_name": "LayoutModel",
     "state": {
      "_model_module": "@jupyter-widgets/base",
      "_model_module_version": "1.2.0",
      "_model_name": "LayoutModel",
      "_view_count": null,
      "_view_module": "@jupyter-widgets/base",
      "_view_module_version": "1.2.0",
      "_view_name": "LayoutView",
      "align_content": null,
      "align_items": null,
      "align_self": null,
      "border": null,
      "bottom": null,
      "display": null,
      "flex": null,
      "flex_flow": null,
      "grid_area": null,
      "grid_auto_columns": null,
      "grid_auto_flow": null,
      "grid_auto_rows": null,
      "grid_column": null,
      "grid_gap": null,
      "grid_row": null,
      "grid_template_areas": null,
      "grid_template_columns": null,
      "grid_template_rows": null,
      "height": null,
      "justify_content": null,
      "justify_items": null,
      "left": null,
      "margin": null,
      "max_height": null,
      "max_width": null,
      "min_height": null,
      "min_width": null,
      "object_fit": null,
      "object_position": null,
      "order": null,
      "overflow": null,
      "overflow_x": null,
      "overflow_y": null,
      "padding": null,
      "right": null,
      "top": null,
      "visibility": null,
      "width": null
     }
    },
    "9967f6c34acb4814b361004d2b75a075": {
     "model_module": "@jupyter-widgets/controls",
     "model_name": "HBoxModel",
     "state": {
      "_dom_classes": [],
      "_model_module": "@jupyter-widgets/controls",
      "_model_module_version": "1.5.0",
      "_model_name": "HBoxModel",
      "_view_count": null,
      "_view_module": "@jupyter-widgets/controls",
      "_view_module_version": "1.5.0",
      "_view_name": "HBoxView",
      "box_style": "",
      "children": [
       "IPY_MODEL_5a222c004e144a9a89806b32517d1abe",
       "IPY_MODEL_c4c370e2d0a04fa082e7747a93294ba8"
      ],
      "layout": "IPY_MODEL_04fa014b4b174774b2051e6e9491fe09"
     }
    },
    "a271a8b73de64d328aae4b7f5be56de6": {
     "model_module": "@jupyter-widgets/base",
     "model_name": "LayoutModel",
     "state": {
      "_model_module": "@jupyter-widgets/base",
      "_model_module_version": "1.2.0",
      "_model_name": "LayoutModel",
      "_view_count": null,
      "_view_module": "@jupyter-widgets/base",
      "_view_module_version": "1.2.0",
      "_view_name": "LayoutView",
      "align_content": null,
      "align_items": null,
      "align_self": null,
      "border": null,
      "bottom": null,
      "display": null,
      "flex": null,
      "flex_flow": null,
      "grid_area": null,
      "grid_auto_columns": null,
      "grid_auto_flow": null,
      "grid_auto_rows": null,
      "grid_column": null,
      "grid_gap": null,
      "grid_row": null,
      "grid_template_areas": null,
      "grid_template_columns": null,
      "grid_template_rows": null,
      "height": null,
      "justify_content": null,
      "justify_items": null,
      "left": null,
      "margin": null,
      "max_height": null,
      "max_width": null,
      "min_height": null,
      "min_width": null,
      "object_fit": null,
      "object_position": null,
      "order": null,
      "overflow": null,
      "overflow_x": null,
      "overflow_y": null,
      "padding": null,
      "right": null,
      "top": null,
      "visibility": null,
      "width": null
     }
    },
    "add6cb57c0f6409ca83c37cc00b50083": {
     "model_module": "@jupyter-widgets/controls",
     "model_name": "FloatProgressModel",
     "state": {
      "_dom_classes": [],
      "_model_module": "@jupyter-widgets/controls",
      "_model_module_version": "1.5.0",
      "_model_name": "FloatProgressModel",
      "_view_count": null,
      "_view_module": "@jupyter-widgets/controls",
      "_view_module_version": "1.5.0",
      "_view_name": "ProgressView",
      "bar_style": "success",
      "description": "",
      "description_tooltip": null,
      "layout": "IPY_MODEL_790abeec3d4241c1b4bc1e69086308dc",
      "max": 1,
      "min": 0,
      "orientation": "horizontal",
      "style": "IPY_MODEL_06a73fae4ed0415b85d31ae2fd7ef4b6",
      "value": 1
     }
    },
    "b05a86270f424627bf697b84cb880d3b": {
     "model_module": "@jupyter-widgets/base",
     "model_name": "LayoutModel",
     "state": {
      "_model_module": "@jupyter-widgets/base",
      "_model_module_version": "1.2.0",
      "_model_name": "LayoutModel",
      "_view_count": null,
      "_view_module": "@jupyter-widgets/base",
      "_view_module_version": "1.2.0",
      "_view_name": "LayoutView",
      "align_content": null,
      "align_items": null,
      "align_self": null,
      "border": null,
      "bottom": null,
      "display": null,
      "flex": null,
      "flex_flow": null,
      "grid_area": null,
      "grid_auto_columns": null,
      "grid_auto_flow": null,
      "grid_auto_rows": null,
      "grid_column": null,
      "grid_gap": null,
      "grid_row": null,
      "grid_template_areas": null,
      "grid_template_columns": null,
      "grid_template_rows": null,
      "height": null,
      "justify_content": null,
      "justify_items": null,
      "left": null,
      "margin": null,
      "max_height": null,
      "max_width": null,
      "min_height": null,
      "min_width": null,
      "object_fit": null,
      "object_position": null,
      "order": null,
      "overflow": null,
      "overflow_x": null,
      "overflow_y": null,
      "padding": null,
      "right": null,
      "top": null,
      "visibility": null,
      "width": null
     }
    },
    "b20301e5279a4c9a8ffb693c16ade0c0": {
     "model_module": "@jupyter-widgets/base",
     "model_name": "LayoutModel",
     "state": {
      "_model_module": "@jupyter-widgets/base",
      "_model_module_version": "1.2.0",
      "_model_name": "LayoutModel",
      "_view_count": null,
      "_view_module": "@jupyter-widgets/base",
      "_view_module_version": "1.2.0",
      "_view_name": "LayoutView",
      "align_content": null,
      "align_items": null,
      "align_self": null,
      "border": null,
      "bottom": null,
      "display": null,
      "flex": null,
      "flex_flow": null,
      "grid_area": null,
      "grid_auto_columns": null,
      "grid_auto_flow": null,
      "grid_auto_rows": null,
      "grid_column": null,
      "grid_gap": null,
      "grid_row": null,
      "grid_template_areas": null,
      "grid_template_columns": null,
      "grid_template_rows": null,
      "height": null,
      "justify_content": null,
      "justify_items": null,
      "left": null,
      "margin": null,
      "max_height": null,
      "max_width": null,
      "min_height": null,
      "min_width": null,
      "object_fit": null,
      "object_position": null,
      "order": null,
      "overflow": null,
      "overflow_x": null,
      "overflow_y": null,
      "padding": null,
      "right": null,
      "top": null,
      "visibility": null,
      "width": null
     }
    },
    "b73c5dbad7e447e182061d48380fd3bf": {
     "model_module": "@jupyter-widgets/controls",
     "model_name": "HBoxModel",
     "state": {
      "_dom_classes": [],
      "_model_module": "@jupyter-widgets/controls",
      "_model_module_version": "1.5.0",
      "_model_name": "HBoxModel",
      "_view_count": null,
      "_view_module": "@jupyter-widgets/controls",
      "_view_module_version": "1.5.0",
      "_view_name": "HBoxView",
      "box_style": "",
      "children": [
       "IPY_MODEL_add6cb57c0f6409ca83c37cc00b50083",
       "IPY_MODEL_ba32e53d6f5d44d2b7721f14a7737e9e"
      ],
      "layout": "IPY_MODEL_35c84a4ed1ba4870b1336e006c33e767"
     }
    },
    "ba32e53d6f5d44d2b7721f14a7737e9e": {
     "model_module": "@jupyter-widgets/controls",
     "model_name": "HTMLModel",
     "state": {
      "_dom_classes": [],
      "_model_module": "@jupyter-widgets/controls",
      "_model_module_version": "1.5.0",
      "_model_name": "HTMLModel",
      "_view_count": null,
      "_view_module": "@jupyter-widgets/controls",
      "_view_module_version": "1.5.0",
      "_view_name": "HTMLView",
      "description": "",
      "description_tooltip": null,
      "layout": "IPY_MODEL_156b1c5c87534d6a97220dc9177a59df",
      "placeholder": "​",
      "style": "IPY_MODEL_5dca13cc37aa42769c223bb2198592dc",
      "value": " 8192/? [00:00&lt;00:00, 41531.73it/s]"
     }
    },
    "be4bf227a70547f8a6718540b82c65a8": {
     "model_module": "@jupyter-widgets/controls",
     "model_name": "ProgressStyleModel",
     "state": {
      "_model_module": "@jupyter-widgets/controls",
      "_model_module_version": "1.5.0",
      "_model_name": "ProgressStyleModel",
      "_view_count": null,
      "_view_module": "@jupyter-widgets/base",
      "_view_module_version": "1.2.0",
      "_view_name": "StyleView",
      "bar_color": null,
      "description_width": "initial"
     }
    },
    "c4391ac0090443e4824d2d147ae94448": {
     "model_module": "@jupyter-widgets/controls",
     "model_name": "HBoxModel",
     "state": {
      "_dom_classes": [],
      "_model_module": "@jupyter-widgets/controls",
      "_model_module_version": "1.5.0",
      "_model_name": "HBoxModel",
      "_view_count": null,
      "_view_module": "@jupyter-widgets/controls",
      "_view_module_version": "1.5.0",
      "_view_name": "HBoxView",
      "box_style": "",
      "children": [
       "IPY_MODEL_08dddba55de24a49bf9c84f2cedbba00",
       "IPY_MODEL_090474d95f1d48d3aecc44f785c57ca2"
      ],
      "layout": "IPY_MODEL_987ffacff90040d5b07a2f462c42ab5f"
     }
    },
    "c4c370e2d0a04fa082e7747a93294ba8": {
     "model_module": "@jupyter-widgets/controls",
     "model_name": "HTMLModel",
     "state": {
      "_dom_classes": [],
      "_model_module": "@jupyter-widgets/controls",
      "_model_module_version": "1.5.0",
      "_model_name": "HTMLModel",
      "_view_count": null,
      "_view_module": "@jupyter-widgets/controls",
      "_view_module_version": "1.5.0",
      "_view_name": "HTMLView",
      "description": "",
      "description_tooltip": null,
      "layout": "IPY_MODEL_b20301e5279a4c9a8ffb693c16ade0c0",
      "placeholder": "​",
      "style": "IPY_MODEL_3d9642bfafc541a88affbf65e89700fd",
      "value": " 32768/? [00:00&lt;00:00, 48785.22it/s]"
     }
    },
    "c538440ed4804e68beebf63eab85c61b": {
     "model_module": "@jupyter-widgets/base",
     "model_name": "LayoutModel",
     "state": {
      "_model_module": "@jupyter-widgets/base",
      "_model_module_version": "1.2.0",
      "_model_name": "LayoutModel",
      "_view_count": null,
      "_view_module": "@jupyter-widgets/base",
      "_view_module_version": "1.2.0",
      "_view_name": "LayoutView",
      "align_content": null,
      "align_items": null,
      "align_self": null,
      "border": null,
      "bottom": null,
      "display": null,
      "flex": null,
      "flex_flow": null,
      "grid_area": null,
      "grid_auto_columns": null,
      "grid_auto_flow": null,
      "grid_auto_rows": null,
      "grid_column": null,
      "grid_gap": null,
      "grid_row": null,
      "grid_template_areas": null,
      "grid_template_columns": null,
      "grid_template_rows": null,
      "height": null,
      "justify_content": null,
      "justify_items": null,
      "left": null,
      "margin": null,
      "max_height": null,
      "max_width": null,
      "min_height": null,
      "min_width": null,
      "object_fit": null,
      "object_position": null,
      "order": null,
      "overflow": null,
      "overflow_x": null,
      "overflow_y": null,
      "padding": null,
      "right": null,
      "top": null,
      "visibility": null,
      "width": null
     }
    },
    "c94ce7e9c3bc4bc7b25c4ce3861987df": {
     "model_module": "@jupyter-widgets/base",
     "model_name": "LayoutModel",
     "state": {
      "_model_module": "@jupyter-widgets/base",
      "_model_module_version": "1.2.0",
      "_model_name": "LayoutModel",
      "_view_count": null,
      "_view_module": "@jupyter-widgets/base",
      "_view_module_version": "1.2.0",
      "_view_name": "LayoutView",
      "align_content": null,
      "align_items": null,
      "align_self": null,
      "border": null,
      "bottom": null,
      "display": null,
      "flex": null,
      "flex_flow": null,
      "grid_area": null,
      "grid_auto_columns": null,
      "grid_auto_flow": null,
      "grid_auto_rows": null,
      "grid_column": null,
      "grid_gap": null,
      "grid_row": null,
      "grid_template_areas": null,
      "grid_template_columns": null,
      "grid_template_rows": null,
      "height": null,
      "justify_content": null,
      "justify_items": null,
      "left": null,
      "margin": null,
      "max_height": null,
      "max_width": null,
      "min_height": null,
      "min_width": null,
      "object_fit": null,
      "object_position": null,
      "order": null,
      "overflow": null,
      "overflow_x": null,
      "overflow_y": null,
      "padding": null,
      "right": null,
      "top": null,
      "visibility": null,
      "width": null
     }
    },
    "ee278e96efb140cd8720739850c7567f": {
     "model_module": "@jupyter-widgets/controls",
     "model_name": "FloatProgressModel",
     "state": {
      "_dom_classes": [],
      "_model_module": "@jupyter-widgets/controls",
      "_model_module_version": "1.5.0",
      "_model_name": "FloatProgressModel",
      "_view_count": null,
      "_view_module": "@jupyter-widgets/controls",
      "_view_module_version": "1.5.0",
      "_view_name": "ProgressView",
      "bar_style": "success",
      "description": "",
      "description_tooltip": null,
      "layout": "IPY_MODEL_c94ce7e9c3bc4bc7b25c4ce3861987df",
      "max": 1,
      "min": 0,
      "orientation": "horizontal",
      "style": "IPY_MODEL_3b9265b3099846aabd75858c3bb5f5df",
      "value": 1
     }
    },
    "f4b73c98de9349a09b2275cf2f1ad005": {
     "model_module": "@jupyter-widgets/base",
     "model_name": "LayoutModel",
     "state": {
      "_model_module": "@jupyter-widgets/base",
      "_model_module_version": "1.2.0",
      "_model_name": "LayoutModel",
      "_view_count": null,
      "_view_module": "@jupyter-widgets/base",
      "_view_module_version": "1.2.0",
      "_view_name": "LayoutView",
      "align_content": null,
      "align_items": null,
      "align_self": null,
      "border": null,
      "bottom": null,
      "display": null,
      "flex": null,
      "flex_flow": null,
      "grid_area": null,
      "grid_auto_columns": null,
      "grid_auto_flow": null,
      "grid_auto_rows": null,
      "grid_column": null,
      "grid_gap": null,
      "grid_row": null,
      "grid_template_areas": null,
      "grid_template_columns": null,
      "grid_template_rows": null,
      "height": null,
      "justify_content": null,
      "justify_items": null,
      "left": null,
      "margin": null,
      "max_height": null,
      "max_width": null,
      "min_height": null,
      "min_width": null,
      "object_fit": null,
      "object_position": null,
      "order": null,
      "overflow": null,
      "overflow_x": null,
      "overflow_y": null,
      "padding": null,
      "right": null,
      "top": null,
      "visibility": null,
      "width": null
     }
    },
    "fd7f85df549c48b0b243f60fd4cb5b0f": {
     "model_module": "@jupyter-widgets/controls",
     "model_name": "DescriptionStyleModel",
     "state": {
      "_model_module": "@jupyter-widgets/controls",
      "_model_module_version": "1.5.0",
      "_model_name": "DescriptionStyleModel",
      "_view_count": null,
      "_view_module": "@jupyter-widgets/base",
      "_view_module_version": "1.2.0",
      "_view_name": "StyleView",
      "description_width": ""
     }
    }
   }
  }
 },
 "nbformat": 4,
 "nbformat_minor": 4
}
